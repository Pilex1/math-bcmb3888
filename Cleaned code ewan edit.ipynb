{
 "cells": [
  {
   "cell_type": "code",
   "execution_count": 3,
   "id": "e3f44d2f",
   "metadata": {},
   "outputs": [],
   "source": [
    "import networkx as nx\n",
    "import numpy as np\n",
    "import scipy as sp\n",
    "from networkx.algorithms import community\n",
    "from networkx.algorithms.community import greedy_modularity_communities\n",
    "from networkx.algorithms.community import k_clique_communities\n",
    "from community import community_louvain\n",
    "import pandas as pd"
   ]
  },
  {
   "cell_type": "code",
   "execution_count": 4,
   "id": "1deb4bd6",
   "metadata": {},
   "outputs": [
    {
     "name": "stdout",
     "output_type": "stream",
     "text": [
      "number of nodes in original dataset:  6394\n",
      "\n",
      "0         YAL001C\n",
      "1         YAL003W\n",
      "2         YAL012W\n",
      "3         YAL025C\n",
      "4         YAL032C\n",
      "          ...    \n",
      "1308    YKL138C-A\n",
      "1309    YNL138W-A\n",
      "1310    YNL024C-A\n",
      "1311    YHR199C-A\n",
      "1312    YIL102C-A\n",
      "Name: 1, Length: 1313, dtype: object\n",
      "number of nodes after removing essential proteins:  5098\n"
     ]
    }
   ],
   "source": [
    "G0 = nx.read_weighted_edgelist(\"4932.protein.links.v11.5.txt\",comments=\"#\",nodetype=str)\n",
    "print(f\"number of nodes in original dataset: \", len(G0.nodes))\n",
    "\n",
    "#removing the prefix in proteins\n",
    "map_dic = {}\n",
    "\n",
    "for node in G0.nodes() :\n",
    "    map_dic[node] = node[5:]\n",
    "   \n",
    "G = nx.relabel_nodes(G0, map_dic)\n",
    "\n",
    "# remove essential proteins\n",
    "# urlfile=\"https://raw.githubusercontent.com/Pilex1/math-bcmb3888/main/yeast%20essential%20proteins.csv?token=GHSAT0AAAAAABYBYN7DAETXBVQ2R6RODQAWYYML7CA\"\n",
    "\n",
    "# mydata<-read_csv(url(urlfile))\n",
    "essential_proteins = pd.read_csv(\"https://raw.githubusercontent.com/Pilex1/math-bcmb3888/main/yeast%20essential%20proteins.csv?token=GHSAT0AAAAAABYBYN7DAETXBVQ2R6RODQAWYYML7CA\", header=None)[1]\n",
    "print()\n",
    "print(essential_proteins)\n",
    "G.remove_nodes_from(essential_proteins)\n",
    "print(f\"number of nodes after removing essential proteins: \", len(G.nodes)) "
   ]
  },
  {
   "cell_type": "code",
   "execution_count": 5,
   "id": "8e6ff27d",
   "metadata": {},
   "outputs": [
    {
     "name": "stdout",
     "output_type": "stream",
     "text": [
      "# of partitions for Louvain modularity = 41\n"
     ]
    }
   ],
   "source": [
    "partLouvain = community_louvain.best_partition(G)\n",
    "number_of_communities = max(partLouvain.values())+1 #We add one because the indexing starts at 0.\n",
    "print('# of partitions for Louvain modularity =',number_of_communities)"
   ]
  },
  {
   "cell_type": "code",
   "execution_count": 6,
   "id": "6cb79513",
   "metadata": {},
   "outputs": [
    {
     "name": "stdout",
     "output_type": "stream",
     "text": [
      "The size of community # 0 is  397\n",
      "The size of community # 1 is  1121\n",
      "The size of community # 2 is  1112\n",
      "The size of community # 3 is  606\n",
      "The size of community # 4 is  1315\n",
      "The size of community # 5 is  497\n",
      "The size of community # 6 is  1\n",
      "The size of community # 7 is  1\n",
      "The size of community # 8 is  16\n",
      "The size of community # 9 is  1\n",
      "The size of community # 10 is  1\n",
      "The size of community # 11 is  1\n",
      "The size of community # 12 is  1\n",
      "The size of community # 13 is  1\n",
      "The size of community # 14 is  1\n",
      "The size of community # 15 is  1\n",
      "The size of community # 16 is  1\n",
      "The size of community # 17 is  1\n",
      "The size of community # 18 is  1\n",
      "The size of community # 19 is  1\n",
      "The size of community # 20 is  1\n",
      "The size of community # 21 is  1\n",
      "The size of community # 22 is  1\n",
      "The size of community # 23 is  1\n",
      "The size of community # 24 is  1\n",
      "The size of community # 25 is  1\n",
      "The size of community # 26 is  1\n",
      "The size of community # 27 is  1\n",
      "The size of community # 28 is  1\n",
      "The size of community # 29 is  1\n",
      "The size of community # 30 is  1\n",
      "The size of community # 31 is  1\n",
      "The size of community # 32 is  1\n",
      "The size of community # 33 is  1\n",
      "The size of community # 34 is  1\n",
      "The size of community # 35 is  1\n",
      "The size of community # 36 is  1\n",
      "The size of community # 37 is  1\n",
      "The size of community # 38 is  1\n",
      "The size of community # 39 is  1\n",
      "The size of community # 40 is  1\n"
     ]
    }
   ],
   "source": [
    "# Let's construct a dictionary object called 'communities'. The keys will be the community labels and the values \n",
    "# will be a list of nodes in that community. The more experienced python users among you will probably see an \n",
    "# easier/faster way to do this.\n",
    "\n",
    "communities = {} #empty dictionary\n",
    "for i in range(number_of_communities):\n",
    "    communities[i] = [] #create an empty list for each community\n",
    "\n",
    "for name, community in partLouvain.items():\n",
    "    communities[community].append(name) #go through the computed partition and add each node to the appropriate list\n",
    "    \n",
    "\n",
    "# The dictionary we have constructed is similar to what the output of the Louvain algorithm in NetworkX would be. \n",
    "# In your own investigations you can decide what is more useful.\n",
    "\n",
    "#Now let's find out how big each community is. You could accomplish this in the following way:\n",
    "for k in communities:\n",
    "    print('The size of community #', list(communities.keys())[k], 'is ',len(communities[k]))"
   ]
  },
  {
   "cell_type": "code",
   "execution_count": 7,
   "id": "5030501c",
   "metadata": {},
   "outputs": [
    {
     "name": "stdout",
     "output_type": "stream",
     "text": [
      "protein YFL018C in community 1\n",
      "protein YGL059W in community 4\n",
      "protein YNL071W in community 1\n",
      "protein YIL042C in community 4\n",
      "protein YER178W in community 1\n",
      "protein YBR221C in community 1\n",
      "protein YOR090C in community 4\n"
     ]
    }
   ],
   "source": [
    "\n",
    "# partLouvain is a dict where the keys are the node names (i.e. protein names) and values are the index of the community that the protein is part of\n",
    "\n",
    "protein_interest = set(['YER178W', 'YBR221C', 'YNL071W', 'YOR090C', 'YFL018C', 'YIL042C', 'YGL059W'])\n",
    "for p in protein_interest:\n",
    "    print(f\"protein {p} in community {partLouvain[p]}\")"
   ]
  },
  {
   "cell_type": "code",
   "execution_count": 8,
   "id": "5cc5e9fc",
   "metadata": {},
   "outputs": [
    {
     "name": "stdout",
     "output_type": "stream",
     "text": [
      "degree of each protein\n"
     ]
    },
    {
     "data": {
      "text/plain": [
       "{'YIL042C': 266.0,\n",
       " 'YGL059W': 272.0,\n",
       " 'YOR090C': 317.0,\n",
       " 'YNL071W': 491.0,\n",
       " 'YBR221C': 580.0,\n",
       " 'YFL018C': 582.0,\n",
       " 'YER178W': 596.0}"
      ]
     },
     "execution_count": 8,
     "metadata": {},
     "output_type": "execute_result"
    }
   ],
   "source": [
    "# add proteins of interest in the list below\n",
    "protein_interest = set(['YER178W', 'YBR221C', 'YNL071W', 'YOR090C', 'YFL018C', 'YIL042C', 'YGL059W'])\n",
    "degree_dic = {}\n",
    "\n",
    "for p in protein_interest:\n",
    "    degree_dic[p] = float(G.degree(p))\n",
    "    \n",
    "print(\"degree of each protein\")\n",
    "dict(sorted(degree_dic.items(), key=lambda item: item[1]))"
   ]
  },
  {
   "cell_type": "code",
   "execution_count": 27,
   "id": "08871060",
   "metadata": {},
   "outputs": [
    {
     "data": {
      "image/png": "[encoded data removed]",
      "text/plain": [
       "<Figure size 432x288 with 1 Axes>"
      ]
     },
     "metadata": {},
     "output_type": "display_data"
    }
   ],
   "source": [
    "# goal make sure that community 1 and 4 are connecting\n",
    "# define the clusters as separate graphs\n",
    "\n",
    "#subgraph dict with community label as key and subgraph as value\n",
    "essential_proteins_cluster = {}\n",
    "\n",
    "for key in communities.keys():\n",
    "    essential_proteins_cluster[key] = G0.subgraph(communities[key])\n",
    "\n",
    "#subgraph of community 1\n",
    "layout_PPI = nx.spring_layout(essential_proteins,k=1/np.sqrt(len(essential_proteins)))\n",
    "nx.draw(essential_proteins_cluster[12],pos=layout_PPI,node_color='silver')\n",
    "#subgraph of community 9\n",
    "nx.draw(essential_proteins_cluster[4],pos=layout_PPI,node_color='red')\n",
    "#subgraph of community 3\n",
    "nx.draw(essential_proteins_cluster[10],pos=layout_PPI,node_color='green')\n",
    "\n",
    "nx.draw()\n",
    "# G_cluster"
   ]
  },
  {
   "cell_type": "code",
   "execution_count": 10,
   "id": "fc404111",
   "metadata": {},
   "outputs": [
    {
     "name": "stdout",
     "output_type": "stream",
     "text": [
      "{'01': 0, '02': 0, '03': 0, '04': 0, '05': 0, '06': 0, '07': 0, '08': 0, '09': 0, '010': 0, '011': 0, '012': 0, '013': 0, '014': 0, '015': 0, '016': 0, '017': 0, '018': 0, '019': 0, '020': 0, '021': 0, '022': 0, '023': 0, '024': 0, '025': 0, '026': 0, '027': 0, '028': 0, '029': 0, '030': 0, '031': 0, '032': 0, '033': 0, '034': 0, '035': 0, '036': 0, '037': 0, '038': 0, '039': 0, '040': 0, '12': 0, '13': 0, '14': 0, '15': 0, '16': 0, '17': 0, '18': 0, '19': 0, '110': 0, '111': 0, '112': 0, '113': 0, '114': 0, '115': 0, '116': 0, '117': 0, '118': 0, '119': 0, '120': 0, '121': 0, '122': 0, '123': 0, '124': 0, '125': 0, '126': 0, '127': 0, '128': 0, '129': 0, '130': 0, '131': 0, '132': 0, '133': 0, '134': 0, '135': 0, '136': 0, '137': 0, '138': 0, '139': 0, '140': 0, '23': 0, '24': 0, '25': 0, '26': 0, '27': 0, '28': 0, '29': 0, '210': 0, '211': 0, '212': 0, '213': 0, '214': 0, '215': 0, '216': 0, '217': 0, '218': 0, '219': 0, '220': 0, '221': 0, '222': 0, '223': 0, '224': 0, '225': 0, '226': 0, '227': 0, '228': 0, '229': 0, '230': 0, '231': 0, '232': 0, '233': 0, '234': 0, '235': 0, '236': 0, '237': 0, '238': 0, '239': 0, '240': 0, '34': 0, '35': 0, '36': 0, '37': 0, '38': 0, '39': 0, '310': 0, '311': 0, '312': 0, '313': 0, '314': 0, '315': 0, '316': 0, '317': 0, '318': 0, '319': 0, '320': 0, '321': 0, '322': 0, '323': 0, '324': 0, '325': 0, '326': 0, '327': 0, '328': 0, '329': 0, '330': 0, '331': 0, '332': 0, '333': 0, '334': 0, '335': 0, '336': 0, '337': 0, '338': 0, '339': 0, '340': 0, '45': 0, '46': 0, '47': 0, '48': 0, '49': 0, '410': 0, '411': 0, '412': 0, '413': 0, '414': 0, '415': 0, '416': 0, '417': 0, '418': 0, '419': 0, '420': 0, '421': 0, '422': 0, '423': 0, '424': 0, '425': 0, '426': 0, '427': 0, '428': 0, '429': 0, '430': 0, '431': 0, '432': 0, '433': 0, '434': 0, '435': 0, '436': 0, '437': 0, '438': 0, '439': 0, '440': 0, '56': 0, '57': 0, '58': 0, '59': 0, '510': 0, '511': 0, '512': 0, '513': 0, '514': 0, '515': 0, '516': 0, '517': 0, '518': 0, '519': 0, '520': 0, '521': 0, '522': 0, '523': 0, '524': 0, '525': 0, '526': 0, '527': 0, '528': 0, '529': 0, '530': 0, '531': 0, '532': 0, '533': 0, '534': 0, '535': 0, '536': 0, '537': 0, '538': 0, '539': 0, '540': 0, '67': 0, '68': 0, '69': 0, '610': 0, '611': 0, '612': 0, '613': 0, '614': 0, '615': 0, '616': 0, '617': 0, '618': 0, '619': 0, '620': 0, '621': 0, '622': 0, '623': 0, '624': 0, '625': 0, '626': 0, '627': 0, '628': 0, '629': 0, '630': 0, '631': 0, '632': 0, '633': 0, '634': 0, '635': 0, '636': 0, '637': 0, '638': 0, '639': 0, '640': 0, '78': 0, '79': 0, '710': 0, '711': 0, '712': 0, '713': 0, '714': 0, '715': 0, '716': 0, '717': 0, '718': 0, '719': 0, '720': 0, '721': 0, '722': 0, '723': 0, '724': 0, '725': 0, '726': 0, '727': 0, '728': 0, '729': 0, '730': 0, '731': 0, '732': 0, '733': 0, '734': 0, '735': 0, '736': 0, '737': 0, '738': 0, '739': 0, '740': 0, '89': 0, '810': 0, '811': 0, '812': 0, '813': 0, '814': 0, '815': 0, '816': 0, '817': 0, '818': 0, '819': 0, '820': 0, '821': 0, '822': 0, '823': 0, '824': 0, '825': 0, '826': 0, '827': 0, '828': 0, '829': 0, '830': 0, '831': 0, '832': 0, '833': 0, '834': 0, '835': 0, '836': 0, '837': 0, '838': 0, '839': 0, '840': 0, '910': 0, '911': 0, '912': 0, '913': 0, '914': 0, '915': 0, '916': 0, '917': 0, '918': 0, '919': 0, '920': 0, '921': 0, '922': 0, '923': 0, '924': 0, '925': 0, '926': 0, '927': 0, '928': 0, '929': 0, '930': 0, '931': 0, '932': 0, '933': 0, '934': 0, '935': 0, '936': 0, '937': 0, '938': 0, '939': 0, '940': 0, '1011': 0, '1012': 0, '1013': 0, '1014': 0, '1015': 0, '1016': 0, '1017': 0, '1018': 0, '1019': 0, '1020': 0, '1021': 0, '1022': 0, '1023': 0, '1024': 0, '1025': 0, '1026': 0, '1027': 0, '1028': 0, '1029': 0, '1030': 0, '1031': 0, '1032': 0, '1033': 0, '1034': 0, '1035': 0, '1036': 0, '1037': 0, '1038': 0, '1039': 0, '1040': 0, '1112': 0, '1113': 0, '1114': 0, '1115': 0, '1116': 0, '1117': 0, '1118': 0, '1119': 0, '1120': 0, '1121': 0, '1122': 0, '1123': 0, '1124': 0, '1125': 0, '1126': 0, '1127': 0, '1128': 0, '1129': 0, '1130': 0, '1131': 0, '1132': 0, '1133': 0, '1134': 0, '1135': 0, '1136': 0, '1137': 0, '1138': 0, '1139': 0, '1140': 0, '1213': 0, '1214': 0, '1215': 0, '1216': 0, '1217': 0, '1218': 0, '1219': 0, '1220': 0, '1221': 0, '1222': 0, '1223': 0, '1224': 0, '1225': 0, '1226': 0, '1227': 0, '1228': 0, '1229': 0, '1230': 0, '1231': 0, '1232': 0, '1233': 0, '1234': 0, '1235': 0, '1236': 0, '1237': 0, '1238': 0, '1239': 0, '1240': 0, '1314': 0, '1315': 0, '1316': 0, '1317': 0, '1318': 0, '1319': 0, '1320': 0, '1321': 0, '1322': 0, '1323': 0, '1324': 0, '1325': 0, '1326': 0, '1327': 0, '1328': 0, '1329': 0, '1330': 0, '1331': 0, '1332': 0, '1333': 0, '1334': 0, '1335': 0, '1336': 0, '1337': 0, '1338': 0, '1339': 0, '1340': 0, '1415': 0, '1416': 0, '1417': 0, '1418': 0, '1419': 0, '1420': 0, '1421': 0, '1422': 0, '1423': 0, '1424': 0, '1425': 0, '1426': 0, '1427': 0, '1428': 0, '1429': 0, '1430': 0, '1431': 0, '1432': 0, '1433': 0, '1434': 0, '1435': 0, '1436': 0, '1437': 0, '1438': 0, '1439': 0, '1440': 0, '1516': 0, '1517': 0, '1518': 0, '1519': 0, '1520': 0, '1521': 0, '1522': 0, '1523': 0, '1524': 0, '1525': 0, '1526': 0, '1527': 0, '1528': 0, '1529': 0, '1530': 0, '1531': 0, '1532': 0, '1533': 0, '1534': 0, '1535': 0, '1536': 0, '1537': 0, '1538': 0, '1539': 0, '1540': 0, '1617': 0, '1618': 0, '1619': 0, '1620': 0, '1621': 0, '1622': 0, '1623': 0, '1624': 0, '1625': 0, '1626': 0, '1627': 0, '1628': 0, '1629': 0, '1630': 0, '1631': 0, '1632': 0, '1633': 0, '1634': 0, '1635': 0, '1636': 0, '1637': 0, '1638': 0, '1639': 0, '1640': 0, '1718': 0, '1719': 0, '1720': 0, '1721': 0, '1722': 0, '1723': 0, '1724': 0, '1725': 0, '1726': 0, '1727': 0, '1728': 0, '1729': 0, '1730': 0, '1731': 0, '1732': 0, '1733': 0, '1734': 0, '1735': 0, '1736': 0, '1737': 0, '1738': 0, '1739': 0, '1740': 0, '1819': 0, '1820': 0, '1821': 0, '1822': 0, '1823': 0, '1824': 0, '1825': 0, '1826': 0, '1827': 0, '1828': 0, '1829': 0, '1830': 0, '1831': 0, '1832': 0, '1833': 0, '1834': 0, '1835': 0, '1836': 0, '1837': 0, '1838': 0, '1839': 0, '1840': 0, '1920': 0, '1921': 0, '1922': 0, '1923': 0, '1924': 0, '1925': 0, '1926': 0, '1927': 0, '1928': 0, '1929': 0, '1930': 0, '1931': 0, '1932': 0, '1933': 0, '1934': 0, '1935': 0, '1936': 0, '1937': 0, '1938': 0, '1939': 0, '1940': 0, '2021': 0, '2022': 0, '2023': 0, '2024': 0, '2025': 0, '2026': 0, '2027': 0, '2028': 0, '2029': 0, '2030': 0, '2031': 0, '2032': 0, '2033': 0, '2034': 0, '2035': 0, '2036': 0, '2037': 0, '2038': 0, '2039': 0, '2040': 0, '2122': 0, '2123': 0, '2124': 0, '2125': 0, '2126': 0, '2127': 0, '2128': 0, '2129': 0, '2130': 0, '2131': 0, '2132': 0, '2133': 0, '2134': 0, '2135': 0, '2136': 0, '2137': 0, '2138': 0, '2139': 0, '2140': 0, '2223': 0, '2224': 0, '2225': 0, '2226': 0, '2227': 0, '2228': 0, '2229': 0, '2230': 0, '2231': 0, '2232': 0, '2233': 0, '2234': 0, '2235': 0, '2236': 0, '2237': 0, '2238': 0, '2239': 0, '2240': 0, '2324': 0, '2325': 0, '2326': 0, '2327': 0, '2328': 0, '2329': 0, '2330': 0, '2331': 0, '2332': 0, '2333': 0, '2334': 0, '2335': 0, '2336': 0, '2337': 0, '2338': 0, '2339': 0, '2340': 0, '2425': 0, '2426': 0, '2427': 0, '2428': 0, '2429': 0, '2430': 0, '2431': 0, '2432': 0, '2433': 0, '2434': 0, '2435': 0, '2436': 0, '2437': 0, '2438': 0, '2439': 0, '2440': 0, '2526': 0, '2527': 0, '2528': 0, '2529': 0, '2530': 0, '2531': 0, '2532': 0, '2533': 0, '2534': 0, '2535': 0, '2536': 0, '2537': 0, '2538': 0, '2539': 0, '2540': 0, '2627': 0, '2628': 0, '2629': 0, '2630': 0, '2631': 0, '2632': 0, '2633': 0, '2634': 0, '2635': 0, '2636': 0, '2637': 0, '2638': 0, '2639': 0, '2640': 0, '2728': 0, '2729': 0, '2730': 0, '2731': 0, '2732': 0, '2733': 0, '2734': 0, '2735': 0, '2736': 0, '2737': 0, '2738': 0, '2739': 0, '2740': 0, '2829': 0, '2830': 0, '2831': 0, '2832': 0, '2833': 0, '2834': 0, '2835': 0, '2836': 0, '2837': 0, '2838': 0, '2839': 0, '2840': 0, '2930': 0, '2931': 0, '2932': 0, '2933': 0, '2934': 0, '2935': 0, '2936': 0, '2937': 0, '2938': 0, '2939': 0, '2940': 0, '3031': 0, '3032': 0, '3033': 0, '3034': 0, '3035': 0, '3036': 0, '3037': 0, '3038': 0, '3039': 0, '3040': 0, '3132': 0, '3133': 0, '3134': 0, '3135': 0, '3136': 0, '3137': 0, '3138': 0, '3139': 0, '3140': 0, '3233': 0, '3234': 0, '3235': 0, '3236': 0, '3237': 0, '3238': 0, '3239': 0, '3240': 0, '3334': 0, '3335': 0, '3336': 0, '3337': 0, '3338': 0, '3339': 0, '3340': 0, '3435': 0, '3436': 0, '3437': 0, '3438': 0, '3439': 0, '3440': 0, '3536': 0, '3537': 0, '3538': 0, '3539': 0, '3540': 0, '3637': 0, '3638': 0, '3639': 0, '3640': 0, '3738': 0, '3739': 0, '3740': 0, '3839': 0, '3840': 0, '3940': 0}\n"
     ]
    }
   ],
   "source": [
    "#edges dict with community label as key and (0,1) for edge/no-edge as value\n",
    "edges = {}\n",
    "for i in range(number_of_communities-1):\n",
    "    for j in range(i+1,number_of_communities):\n",
    "        edges[str(i)+str(j)] = 0\n",
    "\n",
    "for i in range(number_of_communities-1):\n",
    "    for node in G_cluster[i].nodes():\n",
    "        for neighbor in G0.neighbors(node):\n",
    "            for j in range(i+1,number_of_communities):\n",
    "                if neighbor in communities[j]:\n",
    "                    edges[str(i)+str(j)] += 1\n",
    "\n",
    "print(edges) # convention: 'ij' denotes the edge between node(=community) i and node(=community) j."
   ]
  },
  {
   "cell_type": "code",
   "execution_count": 12,
   "id": "60966b05",
   "metadata": {},
   "outputs": [
    {
     "name": "stdout",
     "output_type": "stream",
     "text": [
      "[]\n"
     ]
    }
   ],
   "source": [
    "# Find the communities which have links to the community of the target protein\n",
    "target_community = partLouvain['YOR090C']\n",
    "neighbor_community = []\n",
    "for i in range(number_of_communities):\n",
    "    if i < target_community:\n",
    "        if edges[str(i)+str(target_community)] != 0:\n",
    "            neighbor_community.append(i)\n",
    "    if i > target_community:\n",
    "        if edges[str(target_community)+str(i)] != 0:\n",
    "            neighbor_community.append(i)\n",
    "        \n",
    "print(neighbor_community)"
   ]
  },
  {
   "cell_type": "code",
   "execution_count": 23,
   "id": "0763607f",
   "metadata": {},
   "outputs": [
    {
     "name": "stdout",
     "output_type": "stream",
     "text": [
      "True\n"
     ]
    }
   ],
   "source": [
    "\n",
    "\n",
    "print(G.has_edge('YER178W','YOR090C'))  # False\n",
    "# print(G.has_edge('YER178W','YOR090C'))  # False\n",
    "\n",
    "\n",
    "# print('d' in G['a']) # False, faster\n",
    "# print('d' not in G['a']) # True"
   ]
  }
 ],
 "metadata": {
  "kernelspec": {
   "display_name": "Python 3",
   "language": "python",
   "name": "python3"
  },
  "language_info": {
   "codemirror_mode": {
    "name": "ipython",
    "version": 3
   },
   "file_extension": ".py",
   "mimetype": "text/x-python",
   "name": "python",
   "nbconvert_exporter": "python",
   "pygments_lexer": "ipython3",
   "version": "3.8.8"
  }
 },
 "nbformat": 4,
 "nbformat_minor": 5
}
