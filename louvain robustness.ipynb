{
 "cells": [
  {
   "cell_type": "markdown",
   "id": "dc7c44b6-7ccf-4894-8225-966fcac517f0",
   "metadata": {},
   "source": [
    "The Louvain algorithm involves randomness. The aim of this notebook is to run the Louvain algorithm multiple times and see how similar the communities it generates are.\n",
    "\n",
    "Alex 22/09/2022"
   ]
  },
  {
   "cell_type": "code",
   "execution_count": 1,
   "id": "90aeb898-976a-4788-8ac7-1bc547f43a97",
   "metadata": {},
   "outputs": [],
   "source": [
    "import networkx as nx\n",
    "import numpy as np\n",
    "import scipy as sp\n",
    "from networkx.algorithms import community\n",
    "from networkx.algorithms.community import greedy_modularity_communities\n",
    "from networkx.algorithms.community import k_clique_communities\n",
    "from community import community_louvain\n",
    "import pandas as pd\n",
    "import matplotlib.pyplot as plt\n",
    "from sklearn.cluster import SpectralClustering\n",
    "from sklearn import metrics\n",
    "from utils import load_network\n",
    "from tqdm import tqdm\n",
    "import concurrent.futures \n",
    "\n",
    "G = load_network()"
   ]
  },
  {
   "cell_type": "markdown",
   "id": "ccd278b4-ecae-40b9-a2c4-c77e0975a614",
   "metadata": {},
   "source": [
    "we run louvain 100 times and save the results to a file\n",
    "\n",
    "next time we run the code, if the file exists we just load from that file instead of running louvain again (which will take forever)"
   ]
  },
  {
   "cell_type": "code",
   "execution_count": 2,
   "id": "36336211-d17a-4645-b0a7-ae09066c858d",
   "metadata": {},
   "outputs": [],
   "source": [
    "import pickle\n",
    "\n",
    "filename = 'louvain-runs.bin'\n",
    "n_runs = 100\n",
    "\n",
    "try:\n",
    "    community_results = pickle.load(open(filename, 'rb'))\n",
    "except:\n",
    "    community_results = dict()\n",
    "    # change max_workers to the number of processors on your machine\n",
    "    with concurrent.futures.ThreadPoolExecutor(max_workers=8) as executor:\n",
    "\n",
    "        def thread_fn(i):\n",
    "            community_results[i] = community_louvain.best_partition(G)\n",
    "            print(f'run {i} done!') \n",
    "\n",
    "        executor.map(thread_fn, range(n_runs))\n",
    "    pickle.dump(community_results, open(filename, 'wb'))"
   ]
  },
  {
   "cell_type": "code",
   "execution_count": 3,
   "id": "3a198eed-e8ca-413f-858a-bbb0aec156bb",
   "metadata": {},
   "outputs": [
    {
     "name": "stdout",
     "output_type": "stream",
     "text": [
      "all proteins ['PDA1', 'PDB1', 'LAT1', 'LPD1'] belong to a single community, over all runs of Louvain!\n",
      "intersection community size 62\n"
     ]
    },
    {
     "data": {
      "text/plain": [
       "{'ACH1',\n",
       " 'ACO1',\n",
       " 'ACO2',\n",
       " 'ACS1',\n",
       " 'ACS2',\n",
       " 'ADY2',\n",
       " 'AGC1',\n",
       " 'AGP2',\n",
       " 'AIM22',\n",
       " 'ATO2',\n",
       " 'CIT1',\n",
       " 'CIT2',\n",
       " 'CIT3',\n",
       " 'CRC1',\n",
       " 'CTP1',\n",
       " 'DAL7',\n",
       " 'DGR1',\n",
       " 'DLD2',\n",
       " 'DLD3',\n",
       " 'FDH1',\n",
       " 'FUM1',\n",
       " 'GUT2',\n",
       " 'HFA1',\n",
       " 'ICL1',\n",
       " 'ICL2',\n",
       " 'IDH1',\n",
       " 'IDH2',\n",
       " 'IDP1',\n",
       " 'IDP2',\n",
       " 'IDP3',\n",
       " 'IRC15',\n",
       " 'IRC24',\n",
       " 'JEN1',\n",
       " 'KGD1',\n",
       " 'KGD2',\n",
       " 'LAT1',\n",
       " 'LPD1',\n",
       " 'LSC1',\n",
       " 'LSC2',\n",
       " 'MAE1',\n",
       " 'MDH1',\n",
       " 'MDH2',\n",
       " 'MDH3',\n",
       " 'MLS1',\n",
       " 'NIT3',\n",
       " 'ODC1',\n",
       " 'ODC2',\n",
       " 'PCK1',\n",
       " 'PDA1',\n",
       " 'PDB1',\n",
       " 'PDX1',\n",
       " 'PYC1',\n",
       " 'PYC2',\n",
       " 'SFC1',\n",
       " 'UGA2',\n",
       " 'YAT1',\n",
       " 'YAT2',\n",
       " 'YGR067C',\n",
       " 'YIA6',\n",
       " 'YIR035C',\n",
       " 'YKL030W',\n",
       " 'YSC83'}"
      ]
     },
     "execution_count": 3,
     "metadata": {},
     "output_type": "execute_result"
    },
    {
     "data": {
      "image/png": "[encoded data removed]",
      "text/plain": [
       "<Figure size 432x288 with 1 Axes>"
      ]
     },
     "metadata": {
      "needs_background": "light"
     },
     "output_type": "display_data"
    }
   ],
   "source": [
    "protein1 = ['PDA1', 'PDB1', 'LAT1', 'LPD1'] # pdh complex\n",
    "protein2 = ['PKP1', 'PKP2', 'PTC5'] # pdh regulators\n",
    "\n",
    "def check_same_communities(community_results, protein_list):\n",
    "    bad_indices = set()\n",
    "    for idx, communities in community_results.items():\n",
    "        # print(communities)\n",
    "        protein_comms = list(communities[p] for p in protein_list)\n",
    "        identical_community = protein_comms.count(protein_comms[0]) == len(protein_comms)\n",
    "        if not identical_community: \n",
    "            print(f\"proteins in {protein_list} do not all belong to the same community, skipping this run!\")\n",
    "            bad_indices.add(idx)\n",
    "    if len(bad_indices) == 0:\n",
    "        print(f\"all proteins {protein_list} belong to a single community, over all runs of Louvain!\")\n",
    "    \n",
    "    each_community = list()\n",
    "    intersection_sizes = list()\n",
    "    for idx, communities in community_results.items():\n",
    "        if idx in bad_indices:\n",
    "            print(f'skipping {community_index}')\n",
    "        else:\n",
    "            # find thie community that the protein belongs to\n",
    "            community_index = communities[protein_list[0]]\n",
    "            protein_community = set(p for p in communities if communities[p] == community_index)\n",
    "            # print(f'run {idx}, community size {len(protein_community)}')\n",
    "            each_community.append(protein_community)\n",
    "            intersection_sizes.append(len(set.intersection(*each_community)))\n",
    "    print('intersection community size', len(set.intersection(*each_community)))\n",
    "    \n",
    "    # plt.plot(intersection_sizes, 'o')\n",
    "    # plt.yscale('log')\n",
    "    \n",
    "    # ignore the first 10 intersects as they have very large sizes\n",
    "    plt.plot(range(5,len(intersection_sizes)), intersection_sizes[5:], 'o')\n",
    "    \n",
    "    return set.intersection(*each_community)\n",
    "        \n",
    "check_same_communities(community_results, protein1)"
   ]
  },
  {
   "cell_type": "markdown",
   "id": "3186d0bb-e591-40f7-a4f3-e3dc1a21c55a",
   "metadata": {},
   "source": [
    "Conclusion: after 100 runs of Louvain, the four proteins 'PDA1', 'PDB1', 'LAT1', 'LPD1' are always part of the same community. Moreover, for each run the same 62 proteins are present (these are the ones printed above)."
   ]
  },
  {
   "cell_type": "code",
   "execution_count": 4,
   "id": "f6ef5a74-52e9-4eaf-996f-402f8e4540a7",
   "metadata": {},
   "outputs": [
    {
     "name": "stdout",
     "output_type": "stream",
     "text": [
      "proteins in ['PKP1', 'PKP2', 'PTC5'] do not all belong to the same community, skipping this run!\n",
      "skipping 5\n",
      "intersection community size 3\n"
     ]
    },
    {
     "data": {
      "text/plain": [
       "{'PKP1', 'PKP2', 'PTC5'}"
      ]
     },
     "execution_count": 4,
     "metadata": {},
     "output_type": "execute_result"
    },
    {
     "data": {
      "image/png": "[encoded data removed]",
      "text/plain": [
       "<Figure size 432x288 with 1 Axes>"
      ]
     },
     "metadata": {
      "needs_background": "light"
     },
     "output_type": "display_data"
    }
   ],
   "source": [
    "check_same_communities(community_results, protein2)"
   ]
  },
  {
   "cell_type": "markdown",
   "id": "c7fc55cc-bab2-400f-809d-29c18230df03",
   "metadata": {},
   "source": [
    "On the other hand, out of those same 100 runs of Louvain, the three proteins 'PKP1', 'PKP2', 'PTC5' formed part of the same community in all but one of the runs. For those 99 runs, there are no other proteins common in all runs to the same community as the three proteins."
   ]
  },
  {
   "cell_type": "code",
   "execution_count": null,
   "id": "96942af3-048b-4149-822c-9d406d200a79",
   "metadata": {},
   "outputs": [],
   "source": []
  }
 ],
 "metadata": {
  "kernelspec": {
   "display_name": "Python 3 (ipykernel)",
   "language": "python",
   "name": "python3"
  },
  "language_info": {
   "codemirror_mode": {
    "name": "ipython",
    "version": 3
   },
   "file_extension": ".py",
   "mimetype": "text/x-python",
   "name": "python",
   "nbconvert_exporter": "python",
   "pygments_lexer": "ipython3",
   "version": "3.8.10"
  }
 },
 "nbformat": 4,
 "nbformat_minor": 5
}
