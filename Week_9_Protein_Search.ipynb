{
 "cells": [
  {
   "cell_type": "code",
   "execution_count": 1,
   "metadata": {},
   "outputs": [],
   "source": [
    "import networkx as nx\n",
    "import numpy as np\n",
    "import scipy as sp\n",
    "from networkx.algorithms import community\n",
    "from networkx.algorithms.community import greedy_modularity_communities\n",
    "from networkx.algorithms.community import k_clique_communities\n",
    "from community import community_louvain\n",
    "import pandas as pd\n",
    "import matplotlib.pyplot as plt\n",
    "from sklearn.cluster import SpectralClustering\n",
    "from sklearn import metrics\n",
    "from utils import load_network\n",
    "from tqdm import tqdm\n",
    "import concurrent.futures \n",
    "\n",
    "G = load_network()"
   ]
  },
  {
   "cell_type": "code",
   "execution_count": 2,
   "metadata": {},
   "outputs": [],
   "source": [
    "import pickle\n",
    "\n",
    "filename = 'louvain-runs.bin'\n",
    "n_runs = 100\n",
    "\n",
    "try:\n",
    "    community_results = pickle.load(open(filename, 'rb'))\n",
    "except:\n",
    "    community_results = dict()\n",
    "    # change max_workers to the number of processors on your machine\n",
    "    with concurrent.futures.ThreadPoolExecutor(max_workers=8) as executor:\n",
    "\n",
    "        def thread_fn(i):\n",
    "            community_results[i] = community_louvain.best_partition(G)\n",
    "            print(f'run {i} done!') \n",
    "\n",
    "        executor.map(thread_fn, range(n_runs))\n",
    "    pickle.dump(community_results, open(filename, 'wb'))"
   ]
  },
  {
   "cell_type": "code",
   "execution_count": 3,
   "metadata": {},
   "outputs": [],
   "source": [
    "protein1 = ['PDA1', 'PDB1', 'LAT1', 'LPD1'] # pdh complex\n",
    "protein2 = ['PKP1', 'PKP2', 'PTC5'] # pdh regulators\n",
    "\n",
    "def check_same_communities(community_results, protein_list):\n",
    "    bad_indices = set()\n",
    "    for idx, communities in community_results.items():\n",
    "        # print(communities)\n",
    "        protein_comms = list(communities[p] for p in protein_list)\n",
    "        identical_community = protein_comms.count(protein_comms[0]) == len(protein_comms)\n",
    "        if not identical_community: \n",
    "            print(f\"proteins in {protein_list} do not all belong to the same community, skipping this run!\")\n",
    "            bad_indices.add(idx)\n",
    "    if len(bad_indices) == 0:\n",
    "        print(f\"all proteins {protein_list} belong to a single community, over all runs of Louvain!\")\n",
    "    \n",
    "    each_community = list()\n",
    "    intersection_sizes = list()\n",
    "    for idx, communities in community_results.items():\n",
    "        if idx in bad_indices:\n",
    "            print(f'skipping {community_index}')\n",
    "        else:\n",
    "            # find thie community that the protein belongs to\n",
    "            community_index = communities[protein_list[0]]\n",
    "            protein_community = set(p for p in communities if communities[p] == community_index)\n",
    "            # print(f'run {idx}, community size {len(protein_community)}')\n",
    "            each_community.append(protein_community)\n",
    "            intersection_sizes.append(len(set.intersection(*each_community)))\n",
    "    print('intersection community size', len(set.intersection(*each_community)))\n",
    "\n",
    "    # ignore the first 10 intersects as they have very large sizes\n",
    "    plt.plot(range(5,len(intersection_sizes)), intersection_sizes[5:], 'o')\n",
    "    \n",
    "    return set.intersection(*each_community)"
   ]
  },
  {
   "cell_type": "code",
   "execution_count": 5,
   "metadata": {},
   "outputs": [
    {
     "name": "stdout",
     "output_type": "stream",
     "text": [
      "all proteins ['PDA1', 'PDB1', 'LAT1', 'LPD1'] belong to a single community, over all runs of Louvain!\n",
      "intersection community size 62\n"
     ]
    },
    {
     "data": {
      "image/png": "[encoded data removed]",
      "text/plain": [
       "<Figure size 432x288 with 1 Axes>"
      ]
     },
     "metadata": {
      "needs_background": "light"
     },
     "output_type": "display_data"
    }
   ],
   "source": [
    "common_nodes = check_same_communities(community_results, protein1)\n",
    "G_comm = G.subgraph(common_nodes)"
   ]
  },
  {
   "cell_type": "code",
   "execution_count": 6,
   "metadata": {},
   "outputs": [
    {
     "name": "stdout",
     "output_type": "stream",
     "text": [
      "Protein LIP5 not in common nodes.\n",
      "Protein LIP1 not in common nodes.\n",
      "Protein NFU1 not in common nodes.\n",
      "Protein LAT1 found.\n",
      "Protein LIP5 connected to LAT1\n",
      "Protein LIP1 not connected to LAT1\n",
      "Protein NFU1 not connected to LAT1\n",
      "Protein LAT1 not connected to LAT1\n"
     ]
    }
   ],
   "source": [
    "# Week 9: Find new proteins of interest within common nodes\n",
    "proteins_wk9 = [\"LIP5\", \"LIP1\", \"NFU1\", \"LAT1\"]\n",
    "for p in proteins_wk9:\n",
    "    if p not in common_nodes:\n",
    "        print(\"Protein {} not in common nodes.\".format(p))\n",
    "    else:\n",
    "        print(\"Protein {} found.\".format(p))\n",
    "# Conclusion: Only LAT1 found in the common nodes.\n",
    "\n",
    "lat1_edges = [x[1] for x in G.edges(\"LAT1\")]\n",
    "\n",
    "# See if the other three proteins are connected to LAT1\n",
    "for p in proteins_wk9:\n",
    "    if p not in lat1_edges:\n",
    "        print(\"Protein {} not connected to LAT1\".format(p))\n",
    "    else:\n",
    "        print(\"Protein {} connected to LAT1\".format(p))\n",
    "# Conclusion: Only LIP5 connected to LAT1"
   ]
  },
  {
   "cell_type": "code",
   "execution_count": null,
   "metadata": {},
   "outputs": [],
   "source": []
  }
 ],
 "metadata": {
  "kernelspec": {
   "display_name": "Python 3",
   "language": "python",
   "name": "python3"
  },
  "language_info": {
   "codemirror_mode": {
    "name": "ipython",
    "version": 3
   },
   "file_extension": ".py",
   "mimetype": "text/x-python",
   "name": "python",
   "nbconvert_exporter": "python",
   "pygments_lexer": "ipython3",
   "version": "3.7.6"
  }
 },
 "nbformat": 4,
 "nbformat_minor": 4
}
