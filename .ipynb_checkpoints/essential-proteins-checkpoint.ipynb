{
 "cells": [
  {
   "cell_type": "markdown",
   "id": "77bd3f47-795b-4f9e-8b2c-8868c0785dd7",
   "metadata": {},
   "source": [
    "This is just to check that the proteins we want to study are not essential proteins."
   ]
  },
  {
   "cell_type": "code",
   "execution_count": 8,
   "id": "d5e01f5d-d16a-4fc6-8a86-7c03f3160bd3",
   "metadata": {},
   "outputs": [
    {
     "data": {
      "text/plain": [
       "set()"
      ]
     },
     "execution_count": 8,
     "metadata": {},
     "output_type": "execute_result"
    }
   ],
   "source": [
    "import pandas as pd\n",
    "essential_proteins = pd.read_csv(\"yeast essential proteins.csv\", header=None)\n",
    "essential_proteins_names = set(essential_proteins[1])\n",
    "\n",
    "# the set of proteins we are itnerested in\n",
    "our_proteins = set(['YER178W', 'YBR221C', 'YNL071W', 'YOR090C', 'YFL018C', 'YIL042C', 'YGL059W'])\n",
    "\n",
    "# intersection\n",
    "essential_proteins_names.intersection(our_proteins)"
   ]
  },
  {
   "cell_type": "code",
   "execution_count": null,
   "id": "1e43a979-af21-4e8d-bf05-4a90762bb2ca",
   "metadata": {},
   "outputs": [],
   "source": []
  }
 ],
 "metadata": {
  "kernelspec": {
   "display_name": "Python 3 (ipykernel)",
   "language": "python",
   "name": "python3"
  },
  "language_info": {
   "codemirror_mode": {
    "name": "ipython",
    "version": 3
   },
   "file_extension": ".py",
   "mimetype": "text/x-python",
   "name": "python",
   "nbconvert_exporter": "python",
   "pygments_lexer": "ipython3",
   "version": "3.8.10"
  }
 },
 "nbformat": 4,
 "nbformat_minor": 5
}
