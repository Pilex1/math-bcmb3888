{
 "cells": [
  {
   "cell_type": "code",
   "execution_count": 1,
   "id": "78b976d4-c1b2-421e-8cd8-2f94a29c8ab2",
   "metadata": {},
   "outputs": [
    {
     "name": "stdout",
     "output_type": "stream",
     "text": [
      "number of nodes in original dataset:  6394\n",
      "\n",
      "0         YAL001C\n",
      "1         YAL003W\n",
      "2         YAL012W\n",
      "3         YAL025C\n",
      "4         YAL032C\n",
      "          ...    \n",
      "1308    YKL138C-A\n",
      "1309    YNL138W-A\n",
      "1310    YNL024C-A\n",
      "1311    YHR199C-A\n",
      "1312    YIL102C-A\n",
      "Name: 1, Length: 1313, dtype: object\n",
      "number of nodes after removing essential proteins:  5098\n",
      "Number of edges after filtering over low score 99189\n"
     ]
    }
   ],
   "source": [
    "import networkx as nx\n",
    "import numpy as np\n",
    "import scipy as sp\n",
    "from networkx.algorithms import community\n",
    "from networkx.algorithms.community import greedy_modularity_communities\n",
    "from networkx.algorithms.community import k_clique_communities\n",
    "import pandas as pd\n",
    "from tqdm import tqdm\n",
    "\n",
    "G0 = nx.read_weighted_edgelist(\"4932.protein.links.v11.5.txt\",comments=\"#\",nodetype=str)\n",
    "print(f\"number of nodes in original dataset: \", len(G0.nodes))\n",
    "\n",
    "#removing the prefix in proteins\n",
    "map_dic = {}\n",
    "\n",
    "for node in G0.nodes() :\n",
    "    map_dic[node] = node[5:]\n",
    "   \n",
    "G = nx.relabel_nodes(G0, map_dic)\n",
    "\n",
    "# remove essential proteins\n",
    "essential_proteins = pd.read_csv(\"yeast essential proteins.csv\", header=None)[1]\n",
    "print()\n",
    "print(essential_proteins)\n",
    "G.remove_nodes_from(essential_proteins)\n",
    "print(f\"number of nodes after removing essential proteins: \", len(G.nodes))  \n",
    "\n",
    "# delete those edges with a combined score of <= threshold_score (small confidence)\n",
    "threshold_score = 500\n",
    "for edge in G.edges: \n",
    "    weight = list(G.get_edge_data(edge[0],edge[1]).values())\n",
    "    if(weight[0] <= threshold_score):\n",
    "        G.remove_edge(edge[0],edge[1])\n",
    "print(\"Number of edges after filtering over low score\", len(G.edges))"
   ]
  },
  {
   "cell_type": "code",
   "execution_count": 3,
   "id": "1c2d78c8-0488-499e-b823-e48468963cfb",
   "metadata": {},
   "outputs": [],
   "source": [
    "c = greedy_modularity_communities(G)"
   ]
  },
  {
   "cell_type": "code",
   "execution_count": 5,
   "id": "5051c4f4-b40e-439f-95c5-4972d6df0803",
   "metadata": {},
   "outputs": [
    {
     "data": {
      "text/plain": [
       "327"
      ]
     },
     "execution_count": 5,
     "metadata": {},
     "output_type": "execute_result"
    }
   ],
   "source": [
    "# number of communities\n",
    "len(c)"
   ]
  },
  {
   "cell_type": "code",
   "execution_count": 6,
   "id": "0bd87f8e-d89b-4626-8901-9d92b1d29ad6",
   "metadata": {},
   "outputs": [],
   "source": [
    "# make a dict for protein -> community id\n",
    "protein_community = dict()\n",
    "for idx, s in enumerate(c):\n",
    "    for p in s:\n",
    "        protein_community[p]=idx"
   ]
  },
  {
   "cell_type": "code",
   "execution_count": 9,
   "id": "cbfefaf8-05fe-497c-9d7d-9c362a3bf173",
   "metadata": {},
   "outputs": [
    {
     "name": "stdout",
     "output_type": "stream",
     "text": [
      "YER178W 1\n",
      "YBR221C 1\n",
      "YNL071W 1\n",
      "YOR090C 0\n",
      "YFL018C 1\n",
      "YIL042C 0\n",
      "YGL059W 0\n"
     ]
    }
   ],
   "source": [
    "protein_interest = ['YER178W', 'YBR221C', 'YNL071W', 'YOR090C', 'YFL018C', 'YIL042C', 'YGL059W']\n",
    "for p in protein_interest:\n",
    "    print(p, protein_community[p])"
   ]
  }
 ],
 "metadata": {
  "kernelspec": {
   "display_name": "Python 3 (ipykernel)",
   "language": "python",
   "name": "python3"
  },
  "language_info": {
   "codemirror_mode": {
    "name": "ipython",
    "version": 3
   },
   "file_extension": ".py",
   "mimetype": "text/x-python",
   "name": "python",
   "nbconvert_exporter": "python",
   "pygments_lexer": "ipython3",
   "version": "3.8.10"
  }
 },
 "nbformat": 4,
 "nbformat_minor": 5
}
