{
 "cells": [
  {
   "cell_type": "code",
   "execution_count": 1,
   "id": "448f6565",
   "metadata": {},
   "outputs": [],
   "source": [
    "import networkx as nx\n",
    "import numpy as np\n",
    "import scipy as sp\n",
    "from networkx.algorithms import community\n",
    "from networkx.algorithms.community import greedy_modularity_communities\n",
    "from networkx.algorithms.community import k_clique_communities\n",
    "from community import community_louvain\n",
    "import pandas as pd\n",
    "import matplotlib.pyplot as plt\n",
    "from sklearn.cluster import SpectralClustering\n",
    "from sklearn import metrics"
   ]
  },
  {
   "cell_type": "code",
   "execution_count": 2,
   "id": "f98c6221",
   "metadata": {},
   "outputs": [
    {
     "name": "stdout",
     "output_type": "stream",
     "text": [
      "number of nodes in original dataset:  6394\n",
      "\n",
      "0         YAL001C\n",
      "1         YAL003W\n",
      "2         YAL012W\n",
      "3         YAL025C\n",
      "4         YAL032C\n",
      "          ...    \n",
      "1308    YKL138C-A\n",
      "1309    YNL138W-A\n",
      "1310    YNL024C-A\n",
      "1311    YHR199C-A\n",
      "1312    YIL102C-A\n",
      "Name: 1, Length: 1313, dtype: object\n",
      "number of nodes after removing essential proteins:  6324\n"
     ]
    }
   ],
   "source": [
    "G0 = nx.read_weighted_edgelist(\"4932.protein.links.v11.5.txt\",comments=\"#\",nodetype=str)\n",
    "print(f\"number of nodes in original dataset: \", len(G0.nodes))\n",
    "\n",
    "#removing the prefix in proteins\n",
    "protein_info = pd.read_csv(\"Protein_info.txt\", sep='\\t')\n",
    "map_dic = protein_info.set_index('#string_protein_id').to_dict()['preferred_name']\n",
    "   \n",
    "G = nx.relabel_nodes(G0, map_dic)\n",
    "\n",
    "# remove essential proteins\n",
    "essential_proteins = pd.read_csv(\"yeast essential proteins.csv\", header=None)[1]\n",
    "print()\n",
    "print(essential_proteins)\n",
    "G.remove_nodes_from(essential_proteins)\n",
    "print(f\"number of nodes after removing essential proteins: \", len(G.nodes))  \n",
    "\n",
    "# delete those edges with a combined score of <= threshold_score (small confidence)\n",
    "threshold_score = 500\n",
    "for edge in G.edges: \n",
    "    weight = list(G.get_edge_data(edge[0],edge[1]).values())\n",
    "    if(weight[0] <= threshold_score):\n",
    "        G.remove_edge(edge[0],edge[1])"
   ]
  },
  {
   "cell_type": "code",
   "execution_count": 3,
   "id": "6c3b7819",
   "metadata": {},
   "outputs": [],
   "source": [
    "#protein_interest = ['YER178W', 'YBR221C', 'YNL071W', 'YOR090C', 'YFL018C', 'YIL042C', 'YGL059W']"
   ]
  },
  {
   "cell_type": "code",
   "execution_count": 4,
   "id": "89cc75f0",
   "metadata": {},
   "outputs": [],
   "source": [
    "#nx.common_neighbors(G, protein_interest[0], protein_interest[1])"
   ]
  },
  {
   "cell_type": "markdown",
   "id": "a6d2e3ff",
   "metadata": {},
   "source": [
    "## Louvain and Centrality Measures"
   ]
  },
  {
   "cell_type": "code",
   "execution_count": 5,
   "id": "13272d65",
   "metadata": {},
   "outputs": [
    {
     "name": "stdout",
     "output_type": "stream",
     "text": [
      "# of partitions for Louvain modularity = 308\n"
     ]
    }
   ],
   "source": [
    "partLouvain = community_louvain.best_partition(G)\n",
    "number_of_communities = max(partLouvain.values())+1 #We add one because the indexing starts at 0.\n",
    "print('# of partitions for Louvain modularity =',number_of_communities)\n",
    "communities = {} #empty dictionary\n",
    "for i in range(number_of_communities):\n",
    "    communities[i] = [] #create an empty list for each community\n",
    "\n",
    "for name, community in partLouvain.items():\n",
    "    communities[community].append(name) #go through the computed partition and add each node to the appropriate list\n"
   ]
  },
  {
   "cell_type": "code",
   "execution_count": 6,
   "id": "cf5e6c89",
   "metadata": {},
   "outputs": [
    {
     "name": "stdout",
     "output_type": "stream",
     "text": [
      "protein PDA1 in community 4\n",
      "protein PDB1 in community 4\n",
      "protein LAT1 in community 4\n",
      "protein LPD1 in community 4\n",
      "protein PKP1 in community 7\n",
      "protein PKP2 in community 7\n",
      "protein PTC5 in community 7\n"
     ]
    }
   ],
   "source": [
    "protein_interest = ['PDA1', 'PDB1', 'LAT1', 'LPD1', 'PKP1', 'PKP2', 'PTC5']\n",
    "communities_interest = set()\n",
    "\n",
    "for p in protein_interest:\n",
    "    print(f\"protein {p} in community {partLouvain[p]}\")\n",
    "    communities_interest.add(partLouvain[p])\n",
    "\n",
    "#PDA1, PDB1, LAT1, LPD1, \n",
    "#PKP1, PKP2,PTC5\n",
    "\n"
   ]
  },
  {
   "cell_type": "code",
   "execution_count": 11,
   "id": "89ca5d7a",
   "metadata": {
    "scrolled": true
   },
   "outputs": [
    {
     "name": "stdout",
     "output_type": "stream",
     "text": [
      "308\n"
     ]
    }
   ],
   "source": [
    "print(number_of_communities)\n"
   ]
  },
  {
   "cell_type": "markdown",
   "id": "ff5ae7a2",
   "metadata": {},
   "source": [
    "Below is a code to obtain a subset of G with only community 2 and 7"
   ]
  },
  {
   "cell_type": "code",
   "execution_count": 12,
   "id": "d50c2b20",
   "metadata": {},
   "outputs": [],
   "source": [
    "G_PDH = G.subgraph(communities[list(communities_interest)[0]]) #subgraph of community with PDH Complex\n",
    "G_enz = G.subgraph(communities[list(communities_interest)[1]]) #subgraph of community with phosphatase and kinase"
   ]
  },
  {
   "cell_type": "code",
   "execution_count": 13,
   "id": "3b100794",
   "metadata": {},
   "outputs": [
    {
     "data": {
      "text/plain": [
       "[4, 7]"
      ]
     },
     "execution_count": 13,
     "metadata": {},
     "output_type": "execute_result"
    }
   ],
   "source": [
    "list(communities_interest)"
   ]
  },
  {
   "cell_type": "code",
   "execution_count": 14,
   "id": "b618392e",
   "metadata": {},
   "outputs": [
    {
     "data": {
      "image/png": "[encoded data removed]",
      "text/plain": [
       "<Figure size 432x288 with 1 Axes>"
      ]
     },
     "metadata": {},
     "output_type": "display_data"
    }
   ],
   "source": [
    "nx.draw(G_PDH)"
   ]
  },
  {
   "cell_type": "code",
   "execution_count": 15,
   "id": "40f9dc0b",
   "metadata": {},
   "outputs": [
    {
     "data": {
      "image/png": "[encoded data removed]",
      "text/plain": [
       "<Figure size 432x288 with 1 Axes>"
      ]
     },
     "metadata": {},
     "output_type": "display_data"
    }
   ],
   "source": [
    "nx.draw(G_enz, node_color = 'red')"
   ]
  },
  {
   "cell_type": "markdown",
   "id": "a1843e61",
   "metadata": {},
   "source": [
    "The code below finds the 10 nodes with the highest centrality measure within the PDH complex community"
   ]
  },
  {
   "cell_type": "code",
   "execution_count": 16,
   "id": "8b4aa292",
   "metadata": {},
   "outputs": [
    {
     "data": {
      "text/plain": [
       "[('PGM2', 0.12465373961218837),\n",
       " ('ZWF1', 0.11980609418282548),\n",
       " ('TPI1', 0.1149584487534626),\n",
       " ('TRP5', 0.11426592797783934),\n",
       " ('PGK1', 0.10941828254847645),\n",
       " ('CTT1', 0.10872576177285319),\n",
       " ('NQM1', 0.10872576177285319),\n",
       " ('GAD1', 0.10595567867036011),\n",
       " ('ALD3', 0.1038781163434903),\n",
       " ('TRP3', 0.1018005540166205)]"
      ]
     },
     "execution_count": 16,
     "metadata": {},
     "output_type": "execute_result"
    }
   ],
   "source": [
    "PDH_dict = nx.degree_centrality(G_PDH)\n",
    "PDH_centrality = sorted(PDH_dict.items(), key=lambda item: item[1], reverse=True)\n",
    "PDH_centrality[0:10]"
   ]
  },
  {
   "cell_type": "code",
   "execution_count": 17,
   "id": "2ef562a6",
   "metadata": {},
   "outputs": [
    {
     "data": {
      "text/plain": [
       "[('ZWF1', 0.13333129997329154),\n",
       " ('TPI1', 0.13220559707758614),\n",
       " ('PGM2', 0.12422095433579092),\n",
       " ('PGK1', 0.1204261737016892),\n",
       " ('PGI1', 0.11861115134664718),\n",
       " ('NQM1', 0.1176289004786243),\n",
       " ('GLK1', 0.11167894346376232),\n",
       " ('ALD3', 0.11049895173655087),\n",
       " ('FUM1', 0.11014358481394741),\n",
       " ('HXK1', 0.10847477116138125)]"
      ]
     },
     "execution_count": 17,
     "metadata": {},
     "output_type": "execute_result"
    }
   ],
   "source": [
    "#using eigenvector centrality\n",
    "PDH_eigen = sorted(nx.eigenvector_centrality(G_PDH).items(), key = lambda item:item[1], reverse = True)\n",
    "PDH_eigen[0:10]"
   ]
  },
  {
   "cell_type": "markdown",
   "id": "4263cb48",
   "metadata": {},
   "source": [
    "Look at degree distribution next?"
   ]
  },
  {
   "cell_type": "markdown",
   "id": "9f73c659",
   "metadata": {},
   "source": [
    "We repeat the same process for the kinase and phosphatase community"
   ]
  },
  {
   "cell_type": "code",
   "execution_count": 18,
   "id": "697e800d",
   "metadata": {},
   "outputs": [
    {
     "data": {
      "text/plain": [
       "[('ACT1', 0.17190635451505015),\n",
       " ('CDC42', 0.16856187290969898),\n",
       " ('SEC4', 0.1277591973244147),\n",
       " ('RHO1', 0.12709030100334448),\n",
       " ('SNC1', 0.1177257525083612),\n",
       " ('RAS2', 0.11705685618729096),\n",
       " ('CDC28', 0.11705685618729096),\n",
       " ('YPT7', 0.11438127090301002),\n",
       " ('CHC1', 0.11036789297658862),\n",
       " ('YPT1', 0.10969899665551838)]"
      ]
     },
     "execution_count": 18,
     "metadata": {},
     "output_type": "execute_result"
    }
   ],
   "source": [
    "Enz_dict = nx.degree_centrality(G_enz)\n",
    "Enz_centrality = sorted(Enz_dict.items(), key=lambda item: item[1], reverse=True)\n",
    "Enz_centrality[0:10]"
   ]
  },
  {
   "cell_type": "code",
   "execution_count": 19,
   "id": "01f9e640",
   "metadata": {},
   "outputs": [
    {
     "data": {
      "text/plain": [
       "[('ACT1', 0.14582007246475495),\n",
       " ('CDC42', 0.13121147250551224),\n",
       " ('SEC4', 0.1236420242445584),\n",
       " ('SNC1', 0.12262191550698028),\n",
       " ('YPT1', 0.11112708514844838)]"
      ]
     },
     "execution_count": 19,
     "metadata": {},
     "output_type": "execute_result"
    }
   ],
   "source": [
    "Enz_eigen = sorted(nx.eigenvector_centrality(G_enz).items(), key = lambda item:item[1], reverse = True)\n",
    "Enz_eigen[0:5]"
   ]
  },
  {
   "cell_type": "code",
   "execution_count": 20,
   "id": "db197c24",
   "metadata": {},
   "outputs": [
    {
     "name": "stdout",
     "output_type": "stream",
     "text": [
      "('PTC5', 0.020066889632107024)\n",
      "('PKP1', 0.013377926421404682)\n",
      "('PKP2', 0.010702341137123745)\n"
     ]
    }
   ],
   "source": [
    "for p in Enz_centrality:\n",
    "    if p[0] in protein_interest:\n",
    "        print(p)"
   ]
  },
  {
   "cell_type": "code",
   "execution_count": 21,
   "id": "0f31899c",
   "metadata": {},
   "outputs": [
    {
     "name": "stdout",
     "output_type": "stream",
     "text": [
      "('PDB1', 0.0796398891966759)\n",
      "('PDA1', 0.06786703601108034)\n",
      "('LPD1', 0.05124653739612189)\n",
      "('LAT1', 0.04916897506925208)\n"
     ]
    }
   ],
   "source": [
    "for p in PDH_centrality:\n",
    "    if p[0] in protein_interest:\n",
    "        print(p)"
   ]
  },
  {
   "cell_type": "code",
   "execution_count": 22,
   "id": "7aefc477",
   "metadata": {},
   "outputs": [
    {
     "name": "stdout",
     "output_type": "stream",
     "text": [
      "('PTC5', 0.00844382118365492)\n",
      "('PKP1', 0.003364176863494337)\n",
      "('PKP2', 0.003154345045242171)\n"
     ]
    }
   ],
   "source": [
    "for p in Enz_eigen:\n",
    "    if p[0] in protein_interest:\n",
    "        print(p)"
   ]
  },
  {
   "cell_type": "code",
   "execution_count": 23,
   "id": "6dc31ab6",
   "metadata": {},
   "outputs": [
    {
     "name": "stdout",
     "output_type": "stream",
     "text": [
      "('PDB1', 0.09669852164008365)\n",
      "('PDA1', 0.08805652206204996)\n",
      "('LPD1', 0.06387694969295073)\n",
      "('LAT1', 0.053956746888537015)\n"
     ]
    }
   ],
   "source": [
    "for p in PDH_eigen:\n",
    "    if p[0] in protein_interest:\n",
    "        print(p)"
   ]
  },
  {
   "cell_type": "markdown",
   "id": "70862e3e",
   "metadata": {},
   "source": [
    "## Discovering new insight within each community"
   ]
  },
  {
   "cell_type": "markdown",
   "id": "69c5318f",
   "metadata": {},
   "source": [
    "### PDH Complex\n"
   ]
  },
  {
   "cell_type": "code",
   "execution_count": 27,
   "id": "807281ef",
   "metadata": {},
   "outputs": [
    {
     "name": "stdout",
     "output_type": "stream",
     "text": [
      "# of partitions for Louvain modularity = 12\n"
     ]
    }
   ],
   "source": [
    "partLouvain_PDH = community_louvain.best_partition(G_PDH)\n",
    "number_of_communities_PDH = max(partLouvain_PDH.values())+1 #We add one because the indexing starts at 0.\n",
    "print('# of partitions for Louvain modularity =',number_of_communities_PDH)\n",
    "communities_PDH = {} #empty dictionary\n",
    "for i in range(number_of_communities_PDH):\n",
    "    communities_PDH[i] = [] #create an empty list for each community\n",
    "\n",
    "for name, community in partLouvain_PDH.items():\n",
    "    communities_PDH[community].append(name) #go through the computed partition and add each node to the appropriate list\n"
   ]
  },
  {
   "cell_type": "code",
   "execution_count": 30,
   "id": "a9b02413",
   "metadata": {},
   "outputs": [
    {
     "name": "stdout",
     "output_type": "stream",
     "text": [
      "The size of community # 0 is  201\n",
      "The size of community # 1 is  67\n",
      "The size of community # 2 is  91\n",
      "The size of community # 3 is  124\n",
      "The size of community # 4 is  100\n",
      "The size of community # 5 is  281\n",
      "The size of community # 6 is  18\n",
      "The size of community # 7 is  183\n",
      "The size of community # 8 is  34\n",
      "The size of community # 9 is  135\n",
      "The size of community # 10 is  75\n",
      "The size of community # 11 is  136\n"
     ]
    }
   ],
   "source": [
    "for k in communities_PDH:\n",
    "    print('The size of community #', list(communities_PDH.keys())[k], 'is ',len(communities_PDH[k]))"
   ]
  },
  {
   "cell_type": "code",
   "execution_count": 45,
   "id": "9e4ee925",
   "metadata": {},
   "outputs": [
    {
     "name": "stdout",
     "output_type": "stream",
     "text": [
      "protein PDA1 in community 0\n",
      "protein PDB1 in community 0\n",
      "protein LAT1 in community 0\n",
      "protein LPD1 in community 0\n"
     ]
    }
   ],
   "source": [
    "protein_interest_PDH = [\"PDA1\", \"PDB1\", \"LAT1\", \"LPD1\"]\n",
    "communities_interest_PDH = set()\n",
    "\n",
    "for p in protein_interest_PDH:\n",
    "    print(f\"protein {p} in community {partLouvain_PDH[p]}\")\n",
    "    communities_interest_PDH.add(partLouvain_PDH[p])\n"
   ]
  },
  {
   "cell_type": "code",
   "execution_count": 59,
   "id": "53495a5a",
   "metadata": {},
   "outputs": [],
   "source": [
    "com_PDHcomplex = communities_PDH[list(communities_interest_PDH)[0]]"
   ]
  },
  {
   "cell_type": "markdown",
   "id": "5b149221",
   "metadata": {},
   "source": [
    "### Phosphatase and Kinase"
   ]
  },
  {
   "cell_type": "code",
   "execution_count": 42,
   "id": "19993294",
   "metadata": {},
   "outputs": [
    {
     "name": "stdout",
     "output_type": "stream",
     "text": [
      "# of partitions for Louvain modularity = 12\n"
     ]
    }
   ],
   "source": [
    "partLouvain_enz = community_louvain.best_partition(G_enz)\n",
    "number_of_communities_enz = max(partLouvain_enz.values())+1 #We add one because the indexing starts at 0.\n",
    "print('# of partitions for Louvain modularity =',number_of_communities_enz)\n",
    "communities_enz = {} #empty dictionary\n",
    "for i in range(number_of_communities_enz):\n",
    "    communities_enz[i] = [] #create an empty list for each community\n",
    "\n",
    "for name, community in partLouvain_enz.items():\n",
    "    communities_enz[community].append(name) #go through the computed partition and add each node to the appropriate list\n"
   ]
  },
  {
   "cell_type": "code",
   "execution_count": 43,
   "id": "9e983323",
   "metadata": {},
   "outputs": [
    {
     "name": "stdout",
     "output_type": "stream",
     "text": [
      "The size of community # 0 is  149\n",
      "The size of community # 1 is  126\n",
      "The size of community # 2 is  252\n",
      "The size of community # 3 is  301\n",
      "The size of community # 4 is  153\n",
      "The size of community # 5 is  88\n",
      "The size of community # 6 is  99\n",
      "The size of community # 7 is  31\n",
      "The size of community # 8 is  159\n",
      "The size of community # 9 is  33\n",
      "The size of community # 10 is  67\n",
      "The size of community # 11 is  38\n"
     ]
    }
   ],
   "source": [
    "for k in communities_enz:\n",
    "    print('The size of community #', list(communities_enz.keys())[k], 'is ',len(communities_enz[k]))"
   ]
  },
  {
   "cell_type": "code",
   "execution_count": 47,
   "id": "bfc17150",
   "metadata": {},
   "outputs": [
    {
     "name": "stdout",
     "output_type": "stream",
     "text": [
      "protein PKP1 in community 3\n",
      "protein PKP2 in community 3\n",
      "protein PTC5 in community 3\n"
     ]
    }
   ],
   "source": [
    "protein_interest_enz = [\"PKP1\", \"PKP2\",\"PTC5\"]\n",
    "communities_interest_enz = set()\n",
    "\n",
    "for p in protein_interest_enz:\n",
    "    print(f\"protein {p} in community {partLouvain_enz[p]}\")\n",
    "    communities_interest_enz.add(partLouvain_enz[p])\n"
   ]
  },
  {
   "cell_type": "code",
   "execution_count": 64,
   "id": "7d52bd1a",
   "metadata": {},
   "outputs": [],
   "source": [
    "com_enz = communities_enz[list(communities_interest_enz)[0]]"
   ]
  },
  {
   "cell_type": "markdown",
   "id": "953065ad",
   "metadata": {},
   "source": [
    "## Statistical analysis on centrality"
   ]
  },
  {
   "cell_type": "code",
   "execution_count": 94,
   "id": "16103016",
   "metadata": {},
   "outputs": [
    {
     "data": {
      "image/png": "[encoded data removed]",
      "text/plain": [
       "<Figure size 432x288 with 1 Axes>"
      ]
     },
     "metadata": {
      "needs_background": "light"
     },
     "output_type": "display_data"
    }
   ],
   "source": [
    "PDH_cent = list(PDH_dict.values())\n",
    "enz_cent = list(Enz_dict.values())\n",
    "\n",
    "p2 = plt.hist(enz_cent,20, facecolor='r', alpha=0.75)\n",
    "p1 = plt.hist(PDH_cent,20, facecolor='c', alpha=0.75)\n",
    "\n",
    "plt.title(\"Histogram of centrality distribution\")\n",
    "plt.xlabel(\"Centrality meurement\")\n",
    "plt.legend([\"PDH complex\", \"Enzymes\"])\n",
    "plt.show()"
   ]
  },
  {
   "cell_type": "code",
   "execution_count": 105,
   "id": "3f9bae34",
   "metadata": {},
   "outputs": [
    {
     "data": {
      "image/png": "[encoded data removed]",
      "text/plain": [
       "<Figure size 432x288 with 1 Axes>"
      ]
     },
     "metadata": {
      "needs_background": "light"
     },
     "output_type": "display_data"
    }
   ],
   "source": [
    "PDH_cent_eig = []\n",
    "enz_cent_eig = []\n",
    "\n",
    "for p, i in PDH_eigen:\n",
    "    PDH_cent_eig.append(i)\n",
    "    \n",
    "for p, i in Enz_eigen:\n",
    "    enz_cent_eig.append(i)\n",
    "\n",
    "p3 = plt.hist(enz_cent_eig,20, facecolor='r', alpha=0.75)\n",
    "p4 = plt.hist(PDH_cent_eig,20, facecolor='c', alpha=0.75)\n",
    "\n",
    "plt.title(\"Histogram of eigenvalue centrality distribution\")\n",
    "plt.xlabel(\"Centrality meurement\")\n",
    "plt.legend([\"PDH complex\", \"Enzymes\"])\n",
    "\n",
    "plt.show()"
   ]
  }
 ],
 "metadata": {
  "kernelspec": {
   "display_name": "Python 3",
   "language": "python",
   "name": "python3"
  },
  "language_info": {
   "codemirror_mode": {
    "name": "ipython",
    "version": 3
   },
   "file_extension": ".py",
   "mimetype": "text/x-python",
   "name": "python",
   "nbconvert_exporter": "python",
   "pygments_lexer": "ipython3",
   "version": "3.8.8"
  }
 },
 "nbformat": 4,
 "nbformat_minor": 5
}
