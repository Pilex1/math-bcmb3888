{
 "cells": [
  {
   "cell_type": "code",
   "execution_count": 21,
   "metadata": {},
   "outputs": [],
   "source": [
    "import networkx as nx\n",
    "import numpy as np\n",
    "import scipy as sp\n",
    "from networkx.algorithms import community\n",
    "from networkx.algorithms.community import greedy_modularity_communities\n",
    "from networkx.algorithms.community import k_clique_communities\n",
    "from community import community_louvain\n",
    "import pandas as pd\n",
    "import matplotlib.pyplot as plt\n",
    "from sklearn.cluster import SpectralClustering\n",
    "from sklearn import metrics"
   ]
  },
  {
   "cell_type": "code",
   "execution_count": 22,
   "metadata": {},
   "outputs": [
    {
     "name": "stdout",
     "output_type": "stream",
     "text": [
      "number of nodes in original dataset:  6394\n",
      "\n",
      "0         YAL001C\n",
      "1         YAL003W\n",
      "2         YAL012W\n",
      "3         YAL025C\n",
      "4         YAL032C\n",
      "          ...    \n",
      "1308    YKL138C-A\n",
      "1309    YNL138W-A\n",
      "1310    YNL024C-A\n",
      "1311    YHR199C-A\n",
      "1312    YIL102C-A\n",
      "Name: 1, Length: 1313, dtype: object\n",
      "number of nodes after removing essential proteins:  6324\n"
     ]
    }
   ],
   "source": [
    "G0 = nx.read_weighted_edgelist(\"4932.protein.links.v11.5.txt\",comments=\"#\",nodetype=str)\n",
    "print(f\"number of nodes in original dataset: \", len(G0.nodes))\n",
    "\n",
    "#removing the prefix in proteins\n",
    "protein_info = pd.read_csv(\"Protein_info.txt\", sep='\\t')\n",
    "map_dic = protein_info.set_index('#string_protein_id').to_dict()['preferred_name']\n",
    "   \n",
    "G = nx.relabel_nodes(G0, map_dic)\n",
    "\n",
    "# remove essential proteins\n",
    "essential_proteins = pd.read_csv(\"yeast essential proteins.csv\", header=None)[1]\n",
    "print()\n",
    "print(essential_proteins)\n",
    "G.remove_nodes_from(essential_proteins)\n",
    "print(f\"number of nodes after removing essential proteins: \", len(G.nodes))  \n",
    "\n",
    "# delete those edges with a combined score of <= threshold_score (small confidence)\n",
    "threshold_score = 500\n",
    "for edge in G.edges: \n",
    "    weight = list(G.get_edge_data(edge[0],edge[1]).values())\n",
    "    if(weight[0] <= threshold_score):\n",
    "        G.remove_edge(edge[0],edge[1])"
   ]
  },
  {
   "cell_type": "code",
   "execution_count": 19,
   "metadata": {},
   "outputs": [],
   "source": [
    "#protein_interest = ['YER178W', 'YBR221C', 'YNL071W', 'YOR090C', 'YFL018C', 'YIL042C', 'YGL059W']"
   ]
  },
  {
   "cell_type": "code",
   "execution_count": 20,
   "metadata": {},
   "outputs": [],
   "source": [
    "#nx.common_neighbors(G, protein_interest[0], protein_interest[1])"
   ]
  },
  {
   "cell_type": "markdown",
   "metadata": {},
   "source": [
    "## Louvain and Centrality Measures"
   ]
  },
  {
   "cell_type": "code",
   "execution_count": 23,
   "metadata": {},
   "outputs": [
    {
     "name": "stdout",
     "output_type": "stream",
     "text": [
      "# of partitions for Louvain modularity = 309\n"
     ]
    }
   ],
   "source": [
    "partLouvain = community_louvain.best_partition(G)\n",
    "number_of_communities = max(partLouvain.values())+1 #We add one because the indexing starts at 0.\n",
    "print('# of partitions for Louvain modularity =',number_of_communities)\n",
    "communities = {} #empty dictionary\n",
    "for i in range(number_of_communities):\n",
    "    communities[i] = [] #create an empty list for each community\n",
    "\n",
    "for name, community in partLouvain.items():\n",
    "    communities[community].append(name) #go through the computed partition and add each node to the appropriate list\n"
   ]
  },
  {
   "cell_type": "code",
   "execution_count": 24,
   "metadata": {},
   "outputs": [
    {
     "name": "stdout",
     "output_type": "stream",
     "text": [
      "protein PDA1 in community 2\n",
      "protein PDB1 in community 2\n",
      "protein LAT1 in community 2\n",
      "protein LPD1 in community 2\n",
      "protein PKP1 in community 8\n",
      "protein PKP2 in community 8\n",
      "protein PTC5 in community 8\n"
     ]
    }
   ],
   "source": [
    "protein_interest = ['PDA1', 'PDB1', 'LAT1', 'LPD1', 'PKP1', 'PKP2', 'PTC5']\n",
    "communities_interest = set()\n",
    "\n",
    "for p in protein_interest:\n",
    "    print(f\"protein {p} in community {partLouvain[p]}\")\n",
    "    communities_interest.add(partLouvain[p])\n",
    "\n",
    "#PDA1, PDB1, LAT1, LPD1, \n",
    "#PKP1, PKP2,PTC5\n",
    "\n"
   ]
  },
  {
   "cell_type": "code",
   "execution_count": 25,
   "metadata": {
    "scrolled": true
   },
   "outputs": [
    {
     "name": "stdout",
     "output_type": "stream",
     "text": [
      "309\n"
     ]
    },
    {
     "ename": "KeyError",
     "evalue": "309",
     "output_type": "error",
     "traceback": [
      "\u001b[0;31m---------------------------------------------------------------------------\u001b[0m",
      "\u001b[0;31mKeyError\u001b[0m                                  Traceback (most recent call last)",
      "\u001b[0;32m<ipython-input-25-de853254110d>\u001b[0m in \u001b[0;36m<module>\u001b[0;34m\u001b[0m\n\u001b[1;32m      1\u001b[0m \u001b[0mprint\u001b[0m\u001b[0;34m(\u001b[0m\u001b[0mnumber_of_communities\u001b[0m\u001b[0;34m)\u001b[0m\u001b[0;34m\u001b[0m\u001b[0;34m\u001b[0m\u001b[0m\n\u001b[0;32m----> 2\u001b[0;31m \u001b[0mprint\u001b[0m\u001b[0;34m(\u001b[0m\u001b[0mcommunities\u001b[0m\u001b[0;34m[\u001b[0m\u001b[0;36m309\u001b[0m\u001b[0;34m]\u001b[0m\u001b[0;34m)\u001b[0m\u001b[0;34m\u001b[0m\u001b[0;34m\u001b[0m\u001b[0m\n\u001b[0m",
      "\u001b[0;31mKeyError\u001b[0m: 309"
     ]
    }
   ],
   "source": [
    "print(number_of_communities)\n",
    "print(communities[309])"
   ]
  },
  {
   "cell_type": "markdown",
   "metadata": {},
   "source": [
    "Below is a code to obtain a subset of G with only community 2 and 7"
   ]
  },
  {
   "cell_type": "code",
   "execution_count": 26,
   "metadata": {},
   "outputs": [],
   "source": [
    "G_PDH = G.subgraph(communities[list(communities_interest)[0]]) #subgraph of community with PDH Complex\n",
    "G_enz = G.subgraph(communities[list(communities_interest)[1]]) #subgraph of community with phosphatase and kinase"
   ]
  },
  {
   "cell_type": "code",
   "execution_count": 27,
   "metadata": {},
   "outputs": [
    {
     "data": {
      "text/plain": [
       "[8, 2]"
      ]
     },
     "execution_count": 27,
     "metadata": {},
     "output_type": "execute_result"
    }
   ],
   "source": [
    "list(communities_interest)"
   ]
  },
  {
   "cell_type": "code",
   "execution_count": 28,
   "metadata": {},
   "outputs": [
    {
     "data": {
      "image/png": "[encoded data removed]",
      "text/plain": [
       "<Figure size 432x288 with 1 Axes>"
      ]
     },
     "metadata": {},
     "output_type": "display_data"
    }
   ],
   "source": [
    "nx.draw(G_PDH)"
   ]
  },
  {
   "cell_type": "code",
   "execution_count": 29,
   "metadata": {},
   "outputs": [
    {
     "data": {
      "image/png": "[encoded data removed]",
      "text/plain": [
       "<Figure size 432x288 with 1 Axes>"
      ]
     },
     "metadata": {},
     "output_type": "display_data"
    }
   ],
   "source": [
    "nx.draw(G_enz, node_color = 'red')"
   ]
  },
  {
   "cell_type": "markdown",
   "metadata": {},
   "source": [
    "The code below finds the 10 nodes with the highest centrality measure within the PDH complex community"
   ]
  },
  {
   "cell_type": "code",
   "execution_count": 32,
   "metadata": {},
   "outputs": [
    {
     "data": {
      "text/plain": [
       "[('ACT1', 0.169993117687543),\n",
       " ('CDC42', 0.16517549896765313),\n",
       " ('SEC4', 0.12732278045423262),\n",
       " ('RHO1', 0.1245698554714384),\n",
       " ('SNC1', 0.12181693048864418),\n",
       " ('YPT7', 0.11631108052305575),\n",
       " ('CHC1', 0.11355815554026152),\n",
       " ('RAS2', 0.11286992429456297),\n",
       " ('ARF1', 0.11149346180316586),\n",
       " ('YPT1', 0.1094287680660702)]"
      ]
     },
     "execution_count": 32,
     "metadata": {},
     "output_type": "execute_result"
    }
   ],
   "source": [
    "PDH_dict = nx.degree_centrality(G_PDH)\n",
    "PDH_centrality = sorted(PDH_dict.items(), key=lambda item: item[1], reverse=True)\n",
    "PDH_centrality[0:10]"
   ]
  },
  {
   "cell_type": "code",
   "execution_count": 33,
   "metadata": {},
   "outputs": [
    {
     "data": {
      "text/plain": [
       "[('ACT1', 0.13922419333470626),\n",
       " ('SNC1', 0.12766256657277794),\n",
       " ('SEC4', 0.12547472662141212),\n",
       " ('CDC42', 0.12260878798343186),\n",
       " ('YPT1', 0.11541200353083689),\n",
       " ('ARF1', 0.11183904808712254),\n",
       " ('YPT7', 0.11086007803448963),\n",
       " ('CHC1', 0.10965644808229238),\n",
       " ('RHO1', 0.10065494481113132),\n",
       " ('SEC22', 0.1003249838099733)]"
      ]
     },
     "execution_count": 33,
     "metadata": {},
     "output_type": "execute_result"
    }
   ],
   "source": [
    "#using eigenvector centrality\n",
    "PDH_eigen = sorted(nx.eigenvector_centrality(G_PDH).items(), key = lambda item:item[1], reverse = True)\n",
    "PDH_eigen[0:10]"
   ]
  },
  {
   "cell_type": "markdown",
   "metadata": {},
   "source": [
    "Look at degree distribution next?"
   ]
  },
  {
   "cell_type": "markdown",
   "metadata": {},
   "source": [
    "We repeat the same process for the kinase and phosphatase community"
   ]
  },
  {
   "cell_type": "code",
   "execution_count": 34,
   "metadata": {},
   "outputs": [
    {
     "data": {
      "text/plain": [
       "[('PGM2', 0.1176853055916775),\n",
       " ('ZWF1', 0.11118335500650195),\n",
       " ('TRP5', 0.10728218465539661),\n",
       " ('TPI1', 0.10728218465539661),\n",
       " ('CTT1', 0.10403120936280885),\n",
       " ('NQM1', 0.10273081924577374),\n",
       " ('PGK1', 0.10208062418725618),\n",
       " ('GAD1', 0.10143042912873862),\n",
       " ('ALD3', 0.09947984395318596),\n",
       " ('TRP3', 0.09557867360208062)]"
      ]
     },
     "execution_count": 34,
     "metadata": {},
     "output_type": "execute_result"
    }
   ],
   "source": [
    "Enz_dict = nx.degree_centrality(G_enz)\n",
    "Enz_centrality = sorted(Enz_dict.items(), key=lambda item: item[1], reverse=True)\n",
    "Enz_centrality[0:10]"
   ]
  },
  {
   "cell_type": "code",
   "execution_count": 35,
   "metadata": {},
   "outputs": [
    {
     "data": {
      "text/plain": [
       "[('ZWF1', 0.1314314279919832),\n",
       " ('TPI1', 0.1305512158261875),\n",
       " ('PGM2', 0.12519080757059656),\n",
       " ('PGK1', 0.11902119273718667),\n",
       " ('NQM1', 0.11772601229019954)]"
      ]
     },
     "execution_count": 35,
     "metadata": {},
     "output_type": "execute_result"
    }
   ],
   "source": [
    "Enz_eigen = sorted(nx.eigenvector_centrality(G_enz).items(), key = lambda item:item[1], reverse = True)\n",
    "Enz_eigen[0:5]"
   ]
  },
  {
   "cell_type": "code",
   "execution_count": 36,
   "metadata": {},
   "outputs": [
    {
     "name": "stdout",
     "output_type": "stream",
     "text": [
      "('PDB1', 0.0741222366710013)\n",
      "('PDA1', 0.06306892067620286)\n",
      "('LPD1', 0.04746423927178153)\n",
      "('LAT1', 0.04551365409622887)\n"
     ]
    }
   ],
   "source": [
    "for p in Enz_centrality:\n",
    "    if p[0] in protein_interest:\n",
    "        print(p)"
   ]
  },
  {
   "cell_type": "code",
   "execution_count": 37,
   "metadata": {},
   "outputs": [
    {
     "name": "stdout",
     "output_type": "stream",
     "text": [
      "('PTC5', 0.019958706125258085)\n",
      "('PKP1', 0.01032346868547832)\n",
      "('PKP2', 0.009635237439779766)\n"
     ]
    }
   ],
   "source": [
    "for p in PDH_centrality:\n",
    "    if p[0] in protein_interest:\n",
    "        print(p)"
   ]
  },
  {
   "cell_type": "code",
   "execution_count": 38,
   "metadata": {},
   "outputs": [
    {
     "name": "stdout",
     "output_type": "stream",
     "text": [
      "('PDB1', 0.09552874553085511)\n",
      "('PDA1', 0.08705223389690823)\n",
      "('LPD1', 0.06227286646058195)\n",
      "('LAT1', 0.05245652110392205)\n"
     ]
    }
   ],
   "source": [
    "for p in Enz_eigen:\n",
    "    if p[0] in protein_interest:\n",
    "        print(p)"
   ]
  },
  {
   "cell_type": "code",
   "execution_count": 39,
   "metadata": {},
   "outputs": [
    {
     "name": "stdout",
     "output_type": "stream",
     "text": [
      "('PTC5', 0.007207466819000953)\n",
      "('PKP1', 0.0028042598793163887)\n",
      "('PKP2', 0.0027444187798973756)\n"
     ]
    }
   ],
   "source": [
    "for p in PDH_eigen:\n",
    "    if p[0] in protein_interest:\n",
    "        print(p)"
   ]
  },
  {
   "cell_type": "code",
   "execution_count": 40,
   "metadata": {},
   "outputs": [
    {
     "data": {
      "text/plain": [
       "('YBL096C', 5.780615360637166e-07)"
      ]
     },
     "execution_count": 40,
     "metadata": {},
     "output_type": "execute_result"
    }
   ],
   "source": [
    "Enz_eigen[-1]"
   ]
  },
  {
   "cell_type": "code",
   "execution_count": 63,
   "metadata": {},
   "outputs": [
    {
     "data": {
      "image/png": "[encoded data removed]",
      "text/plain": [
       "<Figure size 432x288 with 1 Axes>"
      ]
     },
     "metadata": {
      "needs_background": "light"
     },
     "output_type": "display_data"
    }
   ],
   "source": [
    "# Comparing degree centrality with eigenvector centrality for PDH\n",
    "intervals = np.linspace(0, 1, 100)\n",
    "deg_c = []\n",
    "eigen_c = []\n",
    "for i in range(0, 50):\n",
    "    deg_c.append(PDH_centrality[i][1])\n",
    "    eigen_c.append(PDH_eigen[i][1])\n",
    "\n",
    "plt.title(\"PDH Centrality Comparison\")\n",
    "plt.scatter(intervals, deg_c, color='r', label=\"PDH Degree Centrality\")\n",
    "plt.scatter(intervals, eigen_c, color='g', label=\"PDH Eigenvector Centrality\")\n",
    "plt.legend()\n",
    "plt.show()"
   ]
  },
  {
   "cell_type": "code",
   "execution_count": 64,
   "metadata": {},
   "outputs": [
    {
     "data": {
      "image/png": "[encoded data removed]",
      "text/plain": [
       "<Figure size 432x288 with 1 Axes>"
      ]
     },
     "metadata": {
      "needs_background": "light"
     },
     "output_type": "display_data"
    }
   ],
   "source": [
    "# Comparing degree centrality with eigenvector centrality for ENZ\n",
    "intervals = np.linspace(0, 1, 50)\n",
    "deg_c_enz = []\n",
    "eigen_c_enz = []\n",
    "for i in range(0, 50):\n",
    "    deg_c_enz.append(Enz_centrality[i][1])\n",
    "    eigen_c_enz.append(Enz_eigen[i][1])\n",
    "\n",
    "plt.title(\"ENZ Centrality Comparison\")\n",
    "plt.scatter(intervals, deg_c_enz, color='r', label=\"ENZ Degree Centrality\")\n",
    "plt.scatter(intervals, eigen_c_enz, color='g', label=\"ENZ Eigenvector Centrality\")\n",
    "plt.legend()\n",
    "plt.show()"
   ]
  },
  {
   "cell_type": "code",
   "execution_count": null,
   "metadata": {},
   "outputs": [],
   "source": []
  }
 ],
 "metadata": {
  "kernelspec": {
   "display_name": "Python 3",
   "language": "python",
   "name": "python3"
  },
  "language_info": {
   "codemirror_mode": {
    "name": "ipython",
    "version": 3
   },
   "file_extension": ".py",
   "mimetype": "text/x-python",
   "name": "python",
   "nbconvert_exporter": "python",
   "pygments_lexer": "ipython3",
   "version": "3.7.6"
  }
 },
 "nbformat": 4,
 "nbformat_minor": 5
}
