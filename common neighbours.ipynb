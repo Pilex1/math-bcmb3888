{
 "cells": [
  {
   "cell_type": "code",
   "execution_count": 2,
   "id": "ee221595-f969-4992-89ce-783dfe198a96",
   "metadata": {},
   "outputs": [
    {
     "name": "stdout",
     "output_type": "stream",
     "text": [
      "number of nodes in original dataset:  6394\n",
      "\n",
      "0         YAL001C\n",
      "1         YAL003W\n",
      "2         YAL012W\n",
      "3         YAL025C\n",
      "4         YAL032C\n",
      "          ...    \n",
      "1308    YKL138C-A\n",
      "1309    YNL138W-A\n",
      "1310    YNL024C-A\n",
      "1311    YHR199C-A\n",
      "1312    YIL102C-A\n",
      "Name: 1, Length: 1313, dtype: object\n",
      "number of nodes after removing essential proteins:  5098\n",
      "Number of edges after filtering over low score 99189\n"
     ]
    }
   ],
   "source": [
    "import networkx as nx\n",
    "import numpy as np\n",
    "import scipy as sp\n",
    "from networkx.algorithms import community\n",
    "from networkx.algorithms.community import greedy_modularity_communities\n",
    "from networkx.algorithms.community import k_clique_communities\n",
    "import pandas as pd\n",
    "from tqdm import tqdm\n",
    "\n",
    "G0 = nx.read_weighted_edgelist(\"4932.protein.links.v11.5.txt\",comments=\"#\",nodetype=str)\n",
    "print(f\"number of nodes in original dataset: \", len(G0.nodes))\n",
    "\n",
    "#removing the prefix in proteins\n",
    "map_dic = {}\n",
    "\n",
    "for node in G0.nodes() :\n",
    "    map_dic[node] = node[5:]\n",
    "   \n",
    "G = nx.relabel_nodes(G0, map_dic)\n",
    "\n",
    "# remove essential proteins\n",
    "essential_proteins = pd.read_csv(\"yeast essential proteins.csv\", header=None)[1]\n",
    "print()\n",
    "print(essential_proteins)\n",
    "G.remove_nodes_from(essential_proteins)\n",
    "print(f\"number of nodes after removing essential proteins: \", len(G.nodes))  \n",
    "\n",
    "# delete those edges with a combined score of <= threshold_score (small confidence)\n",
    "threshold_score = 500\n",
    "for edge in G.edges: \n",
    "    weight = list(G.get_edge_data(edge[0],edge[1]).values())\n",
    "    if(weight[0] <= threshold_score):\n",
    "        G.remove_edge(edge[0],edge[1])\n",
    "print(\"Number of edges after filtering over low score\", len(G.edges))"
   ]
  },
  {
   "cell_type": "markdown",
   "id": "a0680af4-5bd4-4897-9f78-64a81835960f",
   "metadata": {},
   "source": [
    "Proteins connected to all 4 proteins in the first community"
   ]
  },
  {
   "cell_type": "code",
   "execution_count": 3,
   "id": "1ad3d59d-9197-41cd-af34-8448374017cd",
   "metadata": {},
   "outputs": [
    {
     "data": {
      "text/plain": [
       "{'YAL044C',\n",
       " 'YBL099W',\n",
       " 'YBR218C',\n",
       " 'YCR005C',\n",
       " 'YCR079W',\n",
       " 'YDL078C',\n",
       " 'YDL080C',\n",
       " 'YDR148C',\n",
       " 'YDR430C',\n",
       " 'YGR087C',\n",
       " 'YGR193C',\n",
       " 'YIL125W',\n",
       " 'YJL045W',\n",
       " 'YJL046W',\n",
       " 'YJR121W',\n",
       " 'YKL085W',\n",
       " 'YKL148C',\n",
       " 'YKR097W',\n",
       " 'YLR044C',\n",
       " 'YLR134W',\n",
       " 'YLR304C',\n",
       " 'YNL037C',\n",
       " 'YNR001C',\n",
       " 'YOL126C',\n",
       " 'YOR065W',\n",
       " 'YOR090C',\n",
       " 'YOR136W',\n",
       " 'YOR142W',\n",
       " 'YOR187W',\n",
       " 'YPL262W',\n",
       " 'YPR001W'}"
      ]
     },
     "execution_count": 3,
     "metadata": {},
     "output_type": "execute_result"
    }
   ],
   "source": [
    "protein1 = ['YER178W', 'YBR221C', 'YNL071W', 'YFL018C']\n",
    "protein2 = ['YOR090C', 'YIL042C', 'YGL059W']\n",
    "\n",
    "protein1_neighbours = []\n",
    "\n",
    "for p in protein1:\n",
    "    s = set()\n",
    "    for n in G[p]:\n",
    "        s.add(n)\n",
    "    protein1_neighbours.append(s)\n",
    "set.intersection(*protein1_neighbours)"
   ]
  },
  {
   "cell_type": "markdown",
   "id": "a97ffe40-4883-430f-a7aa-583eb1c98543",
   "metadata": {},
   "source": [
    "Proteins connected to all 3 proteins in the second community"
   ]
  },
  {
   "cell_type": "code",
   "execution_count": 4,
   "id": "6ca9304d-2c4f-4538-b028-d1662cd3e067",
   "metadata": {},
   "outputs": [
    {
     "data": {
      "text/plain": [
       "{'YBL056W', 'YBR221C', 'YCR079W', 'YER178W', 'YGR193C', 'YHR076W', 'YNL071W'}"
      ]
     },
     "execution_count": 4,
     "metadata": {},
     "output_type": "execute_result"
    }
   ],
   "source": [
    "protein2_neighbours = []\n",
    "\n",
    "for p in protein2:\n",
    "    s = set()\n",
    "    for n in G[p]:\n",
    "        s.add(n)\n",
    "    protein2_neighbours.append(s)\n",
    "set.intersection(*protein2_neighbours)"
   ]
  },
  {
   "cell_type": "markdown",
   "id": "e3d45a00-0aef-4cd7-b5e7-7dedc198acff",
   "metadata": {},
   "source": [
    "Proteins connected to all 7 proteins"
   ]
  },
  {
   "cell_type": "code",
   "execution_count": 5,
   "id": "353c31e8-1f24-4383-adc1-6113b80cee30",
   "metadata": {},
   "outputs": [
    {
     "data": {
      "text/plain": [
       "{'YCR079W', 'YGR193C'}"
      ]
     },
     "execution_count": 5,
     "metadata": {},
     "output_type": "execute_result"
    }
   ],
   "source": [
    "set.intersection(*protein1_neighbours, *protein2_neighbours)"
   ]
  }
 ],
 "metadata": {
  "kernelspec": {
   "display_name": "Python 3 (ipykernel)",
   "language": "python",
   "name": "python3"
  },
  "language_info": {
   "codemirror_mode": {
    "name": "ipython",
    "version": 3
   },
   "file_extension": ".py",
   "mimetype": "text/x-python",
   "name": "python",
   "nbconvert_exporter": "python",
   "pygments_lexer": "ipython3",
   "version": "3.8.10"
  }
 },
 "nbformat": 4,
 "nbformat_minor": 5
}
