{
 "cells": [
  {
   "cell_type": "code",
   "execution_count": 1,
   "id": "28b673d0-348a-4703-a74a-fd1d4ac06f98",
   "metadata": {},
   "outputs": [
    {
     "name": "stdout",
     "output_type": "stream",
     "text": [
      "number of nodes in original dataset:  6394\n",
      "\n",
      "0         YAL001C\n",
      "1         YAL003W\n",
      "2         YAL012W\n",
      "3         YAL025C\n",
      "4         YAL032C\n",
      "          ...    \n",
      "1308    YKL138C-A\n",
      "1309    YNL138W-A\n",
      "1310    YNL024C-A\n",
      "1311    YHR199C-A\n",
      "1312    YIL102C-A\n",
      "Name: 1, Length: 1313, dtype: object\n",
      "number of nodes after removing essential proteins:  6324\n",
      "Number of edges after filtering over low score 209613\n"
     ]
    }
   ],
   "source": [
    "import networkx as nx\n",
    "import numpy as np\n",
    "import scipy as sp\n",
    "from networkx.algorithms import community\n",
    "from networkx.algorithms.community import greedy_modularity_communities\n",
    "from networkx.algorithms.community import k_clique_communities\n",
    "import pandas as pd\n",
    "from tqdm import tqdm\n",
    "\n",
    "G0 = nx.read_weighted_edgelist(\"4932.protein.links.v11.5.txt\",comments=\"#\",nodetype=str)\n",
    "print(f\"number of nodes in original dataset: \", len(G0.nodes))\n",
    "\n",
    "#removing the prefix in proteins\n",
    "protein_info = pd.read_csv(\"Protein_info.txt\", sep='\\t')\n",
    "map_dic = protein_info.set_index('#string_protein_id').to_dict()['preferred_name']\n",
    "   \n",
    "G = nx.relabel_nodes(G0, map_dic)\n",
    "\n",
    "# remove essential proteins\n",
    "essential_proteins = pd.read_csv(\"yeast essential proteins.csv\", header=None)[1]\n",
    "print()\n",
    "print(essential_proteins)\n",
    "G.remove_nodes_from(essential_proteins)\n",
    "print(f\"number of nodes after removing essential proteins: \", len(G.nodes))  \n",
    "\n",
    "# delete those edges with a combined score of <= threshold_score (small confidence)\n",
    "threshold_score = 500\n",
    "for edge in G.edges: \n",
    "    weight = list(G.get_edge_data(edge[0],edge[1]).values())\n",
    "    if(weight[0] <= threshold_score):\n",
    "        G.remove_edge(edge[0],edge[1])\n",
    "print(\"Number of edges after filtering over low score\", len(G.edges))"
   ]
  },
  {
   "cell_type": "markdown",
   "id": "1e1c77ad-83eb-41d1-a007-39bd3b153986",
   "metadata": {},
   "source": [
    "## Find the shortest paths between each pair of nodes"
   ]
  },
  {
   "cell_type": "code",
   "execution_count": 18,
   "id": "8b5c3e81-e664-4a9d-9571-bae102c0d0a2",
   "metadata": {},
   "outputs": [
    {
     "name": "stdout",
     "output_type": "stream",
     "text": [
      "['PDA1', 'PDB1']\n",
      "['PDA1', 'LAT1']\n",
      "['PDA1', 'LPD1']\n",
      "['PDA1', 'PKP1']\n",
      "['PDA1', 'PKP2']\n",
      "['PDA1', 'PTC5']\n",
      "['PDB1', 'LAT1']\n",
      "['PDB1', 'LPD1']\n",
      "['PDB1', 'PKP1']\n",
      "['PDB1', 'PKP2']\n",
      "['PDB1', 'PTC5']\n",
      "['LAT1', 'LPD1']\n",
      "['LAT1', 'PKP1']\n",
      "['LAT1', 'PKP2']\n",
      "['LAT1', 'PTC5']\n",
      "['LPD1', 'LAT1', 'PKP1']\n",
      "['LPD1', 'LAT1', 'PKP2']\n",
      "['LPD1', 'PTC5']\n",
      "['PKP1', 'PKP2']\n",
      "['PKP1', 'PTC5']\n",
      "['PKP2', 'PTC5']\n"
     ]
    }
   ],
   "source": [
    "import itertools\n",
    "\n",
    "# proteins = ['YER178W', 'YBR221C', 'YNL071W', 'YFL018C', 'YOR090C', 'YIL042C', 'YGL059W']\n",
    "\n",
    "proteins = ['PDA1', 'PDB1', 'LAT1', 'LPD1', 'PKP1', 'PKP2', 'PTC5']\n",
    "\n",
    "for n1, n2 in itertools.combinations(proteins, 2):\n",
    "    print(nx.shortest_path(G, source=n1, target=n2))"
   ]
  },
  {
   "cell_type": "markdown",
   "id": "d50eae22-37b7-45da-80db-e11aa8a6dde2",
   "metadata": {},
   "source": [
    "We see that LPD1 has a path of length 2 to PKP1 and PKP2."
   ]
  },
  {
   "cell_type": "code",
   "execution_count": 19,
   "id": "07638b65-6b11-43a8-b8ab-a3ded7cefb08",
   "metadata": {},
   "outputs": [
    {
     "data": {
      "text/plain": [
       "True"
      ]
     },
     "execution_count": 19,
     "metadata": {},
     "output_type": "execute_result"
    }
   ],
   "source": [
    "G.has_edge('PKP1', 'PKP2')"
   ]
  },
  {
   "cell_type": "markdown",
   "id": "829a3cb7-c70b-4656-9917-05e4ff361c91",
   "metadata": {},
   "source": [
    "PKP1 and PKP2 are adjacent"
   ]
  },
  {
   "cell_type": "markdown",
   "id": "517be0ec-81c9-4755-a944-5b5468a26557",
   "metadata": {},
   "source": [
    "## Greedy modularity communities"
   ]
  },
  {
   "cell_type": "code",
   "execution_count": 20,
   "id": "3f456162-b2fd-487f-a99a-0d7d77b22ce9",
   "metadata": {},
   "outputs": [
    {
     "name": "stdout",
     "output_type": "stream",
     "text": [
      "PDA1 1\n",
      "PDB1 1\n",
      "LAT1 1\n",
      "LPD1 1\n",
      "PKP1 0\n",
      "PKP2 0\n",
      "PTC5 0\n"
     ]
    }
   ],
   "source": [
    "c = greedy_modularity_communities(G)\n",
    "# make a dict for protein -> community id\n",
    "protein_community = dict()\n",
    "for idx, s in enumerate(c):\n",
    "    for p in s:\n",
    "        protein_community[p]=idx\n",
    "        \n",
    "protein_interest = ['PDA1', 'PDB1', 'LAT1', 'LPD1', 'PKP1', 'PKP2', 'PTC5']\n",
    "for p in protein_interest:\n",
    "    print(p, protein_community[p])"
   ]
  },
  {
   "cell_type": "markdown",
   "id": "e9d84309-65bd-4880-86cf-120db58d6ab6",
   "metadata": {},
   "source": [
    "## Common neighbours"
   ]
  },
  {
   "cell_type": "code",
   "execution_count": 37,
   "id": "5b492205-dd83-49fc-b443-21112211f6d9",
   "metadata": {},
   "outputs": [],
   "source": [
    "def common_neighbours(proteins):\n",
    "    neighbours = []\n",
    "    for p in proteins:\n",
    "        s = set()\n",
    "        for n in G[p]:\n",
    "            s.add(n)\n",
    "    return set.intersection(*neighbours)"
   ]
  },
  {
   "cell_type": "markdown",
   "id": "99db0c3c-0ff6-48c0-908b-2db9f54cc182",
   "metadata": {},
   "source": [
    "Proteins interacting with all 4 proteins in the first community (the PDH complex)"
   ]
  },
  {
   "cell_type": "code",
   "execution_count": 21,
   "id": "3a47fcac-38cb-4a89-96f3-407b4f5cf378",
   "metadata": {},
   "outputs": [
    {
     "data": {
      "text/plain": [
       "{'ACO1',\n",
       " 'AIM22',\n",
       " 'ATP1',\n",
       " 'ATP2',\n",
       " 'CIT1',\n",
       " 'CIT2',\n",
       " 'CIT3',\n",
       " 'CYM1',\n",
       " 'CYT1',\n",
       " 'FUM1',\n",
       " 'GCV3',\n",
       " 'IDH1',\n",
       " 'IDH2',\n",
       " 'KGD1',\n",
       " 'KGD2',\n",
       " 'LSC1',\n",
       " 'LSC2',\n",
       " 'MDH1',\n",
       " 'MDH2',\n",
       " 'MDH3',\n",
       " 'PCK1',\n",
       " 'PDC1',\n",
       " 'PDC5',\n",
       " 'PDC6',\n",
       " 'PDX1',\n",
       " 'PTC5',\n",
       " 'PTC6',\n",
       " 'PYC2',\n",
       " 'SDH1',\n",
       " 'THI3',\n",
       " 'TPI1',\n",
       " 'TUF1',\n",
       " 'YJL045W',\n",
       " 'ZWF1'}"
      ]
     },
     "execution_count": 21,
     "metadata": {},
     "output_type": "execute_result"
    }
   ],
   "source": [
    "protein1 = ['PDA1', 'PDB1', 'LAT1', 'LPD1'] # pdh complex\n",
    "protein2 = ['PKP1', 'PKP2', 'PTC5'] # pdh regulators\n",
    "\n",
    "\n",
    "\n",
    "protein1_neighbours = []\n",
    "\n",
    "for p in protein1:\n",
    "    s = set()\n",
    "    for n in G[p]:\n",
    "        s.add(n)\n",
    "    protein1_neighbours.append(s)\n",
    "set.intersection(*protein1_neighbours)"
   ]
  },
  {
   "cell_type": "markdown",
   "id": "75199b84-23cc-4256-a6b8-be69625bcc29",
   "metadata": {},
   "source": [
    "Proteins interacting with all 3 proteins in the second community"
   ]
  },
  {
   "cell_type": "code",
   "execution_count": 22,
   "id": "59e0ed19-1d12-4626-9ee1-8f6739b06f1d",
   "metadata": {},
   "outputs": [
    {
     "data": {
      "text/plain": [
       "{'LAT1', 'PDA1', 'PDB1', 'PDX1', 'PTC3', 'PTC6', 'PTC7'}"
      ]
     },
     "execution_count": 22,
     "metadata": {},
     "output_type": "execute_result"
    }
   ],
   "source": [
    "protein2_neighbours = []\n",
    "\n",
    "for p in protein2:\n",
    "    s = set()\n",
    "    for n in G[p]:\n",
    "        s.add(n)\n",
    "    protein2_neighbours.append(s)\n",
    "set.intersection(*protein2_neighbours)"
   ]
  },
  {
   "cell_type": "markdown",
   "id": "3d6c36b4-8e96-47e8-8009-19073fb0590e",
   "metadata": {},
   "source": [
    "Proteins interacting with PKP1 and PKP2"
   ]
  },
  {
   "cell_type": "code",
   "execution_count": 36,
   "id": "41272e0d-b56e-40e2-8b97-b9fab393c820",
   "metadata": {},
   "outputs": [
    {
     "data": {
      "text/plain": [
       "{'CDC45',\n",
       " 'DBP10',\n",
       " 'GLC3',\n",
       " 'HUL4',\n",
       " 'LAT1',\n",
       " 'PDA1',\n",
       " 'PDB1',\n",
       " 'PDX1',\n",
       " 'PTC3',\n",
       " 'PTC4',\n",
       " 'PTC5',\n",
       " 'PTC6',\n",
       " 'PTC7',\n",
       " 'RBD2',\n",
       " 'RKR1',\n",
       " 'RTK1',\n",
       " 'SCH9',\n",
       " 'TTI1',\n",
       " 'YLR149C',\n",
       " 'YPK1',\n",
       " 'YPK2',\n",
       " 'YPK3'}"
      ]
     },
     "execution_count": 36,
     "metadata": {},
     "output_type": "execute_result"
    }
   ],
   "source": [
    "protein3 = ['PKP1', 'PKP2']\n",
    "protein3_neighbours = []\n",
    "\n",
    "for p in protein3:\n",
    "    s = set()\n",
    "    for n in G[p]:\n",
    "        s.add(n)\n",
    "    protein3_neighbours.append(s)\n",
    "set.intersection(*protein3_neighbours)"
   ]
  },
  {
   "cell_type": "markdown",
   "id": "4adaa460-b5f0-4736-af1f-36d86b8e857c",
   "metadata": {},
   "source": [
    "There are only 4 new ones - PDX1, PTC3, PTC6, PTC7 (the others are in the 4-community)."
   ]
  },
  {
   "cell_type": "markdown",
   "id": "f664a9a5-dc3a-4003-b2e1-b6a08acf156f",
   "metadata": {},
   "source": [
    "Proteins interacting with all 7 proteins"
   ]
  },
  {
   "cell_type": "code",
   "execution_count": 23,
   "id": "4bccdb6e-2d90-4bce-b1f9-ed605e057395",
   "metadata": {},
   "outputs": [
    {
     "data": {
      "text/plain": [
       "{'PDX1', 'PTC6'}"
      ]
     },
     "execution_count": 23,
     "metadata": {},
     "output_type": "execute_result"
    }
   ],
   "source": [
    "set.intersection(*protein1_neighbours, *protein2_neighbours)"
   ]
  },
  {
   "cell_type": "markdown",
   "id": "20d83335-8f8f-4e03-b9b9-4cd5fae8f219",
   "metadata": {},
   "source": [
    "## Centrality measures in the PDH complex"
   ]
  },
  {
   "cell_type": "code",
   "execution_count": 27,
   "id": "a0a0697c-6fb9-4cff-accf-3d5c5822a788",
   "metadata": {},
   "outputs": [],
   "source": [
    "s = set()\n",
    "for p in protein1: # protein1 is the pdh complex (of 4)\n",
    "    s.add(protein_community[p])\n",
    "assert(len(s) == 1) # make sure all the 4 proteins belong to the same community\n",
    "community_idx = list(s)[0]"
   ]
  },
  {
   "cell_type": "code",
   "execution_count": 31,
   "id": "9b66ecd1-9e44-44e1-8b76-5928a9ff35cb",
   "metadata": {},
   "outputs": [],
   "source": [
    "comm = c[community_idx]\n",
    "comm_subgraph = G.subgraph(comm)"
   ]
  },
  {
   "cell_type": "markdown",
   "id": "a967fc25-dc51-45b4-b029-ec31d3e82983",
   "metadata": {},
   "source": [
    "looking at the community that the 4 proteins in the PDH complex are a part of: here are the proteins with the 10 highest degree (i.e. connect to the most proteins within that community)"
   ]
  },
  {
   "cell_type": "code",
   "execution_count": 35,
   "id": "33f6c036-b11f-4ac7-bac8-def422cf278d",
   "metadata": {},
   "outputs": [
    {
     "data": {
      "text/plain": [
       "[('PUF3', 299),\n",
       " ('ATP1', 199),\n",
       " ('TRP5', 193),\n",
       " ('ATP2', 192),\n",
       " ('PGK1', 184),\n",
       " ('TPI1', 178),\n",
       " ('TUF1', 175),\n",
       " ('PGM2', 175),\n",
       " ('ZWF1', 173),\n",
       " ('ACO1', 172)]"
      ]
     },
     "execution_count": 35,
     "metadata": {},
     "output_type": "execute_result"
    }
   ],
   "source": [
    "sorted(comm_subgraph.degree, key=lambda x: x[1], reverse=True)[:10]"
   ]
  },
  {
   "cell_type": "markdown",
   "id": "1608d873-2ff5-4f15-9f97-3fce0dd526fe",
   "metadata": {},
   "source": [
    "## Spectral clustering"
   ]
  },
  {
   "cell_type": "code",
   "execution_count": 2,
   "id": "fdc687f4-11a0-4259-8588-6a32b2dd4ccb",
   "metadata": {},
   "outputs": [
    {
     "name": "stderr",
     "output_type": "stream",
     "text": [
      "<class 'networkx.utils.decorators.argmap'> compilation 13:4: FutureWarning: laplacian_matrix will return a scipy.sparse array instead of a matrix in Networkx 3.0.\n"
     ]
    },
    {
     "ename": "NameError",
     "evalue": "name 'plt' is not defined",
     "output_type": "error",
     "traceback": [
      "\u001b[0;31m---------------------------------------------------------------------------\u001b[0m",
      "\u001b[0;31mNameError\u001b[0m                                 Traceback (most recent call last)",
      "Input \u001b[0;32mIn [2]\u001b[0m, in \u001b[0;36m<cell line: 9>\u001b[0;34m()\u001b[0m\n\u001b[1;32m      6\u001b[0m eigenvals \u001b[38;5;241m=\u001b[39m eigenvals[idx]\n\u001b[1;32m      7\u001b[0m eigenvecs \u001b[38;5;241m=\u001b[39m eigenvecs[:,idx]\n\u001b[0;32m----> 9\u001b[0m \u001b[43mplt\u001b[49m\u001b[38;5;241m.\u001b[39mplot(np\u001b[38;5;241m.\u001b[39marange(\u001b[38;5;241m1\u001b[39m, \u001b[38;5;28mlen\u001b[39m(eigenvals)\u001b[38;5;241m+\u001b[39m\u001b[38;5;241m1\u001b[39m, \u001b[38;5;241m1\u001b[39m), sorted_eigenvals, \u001b[38;5;124m'\u001b[39m\u001b[38;5;124mo\u001b[39m\u001b[38;5;124m'\u001b[39m)\n",
      "\u001b[0;31mNameError\u001b[0m: name 'plt' is not defined"
     ]
    }
   ],
   "source": [
    "L = nx.laplacian_matrix(G).toarray()\n",
    "eigenvals, eigenvecs = np.linalg.eig(L)\n",
    "\n",
    "# sort them in increasing order of eigenvalues\n",
    "idx = eigenvals.argsort()\n",
    "eigenvals = eigenvals[idx]\n",
    "eigenvecs = eigenvecs[:,idx]"
   ]
  },
  {
   "cell_type": "code",
   "execution_count": 4,
   "id": "103b30bc-c916-4cc2-ab56-41ac2a85694f",
   "metadata": {},
   "outputs": [
    {
     "data": {
      "text/plain": [
       "[<matplotlib.lines.Line2D at 0x7fbdcd0ea3a0>]"
      ]
     },
     "execution_count": 4,
     "metadata": {},
     "output_type": "execute_result"
    },
    {
     "data": {
      "image/png": "[encoded data removed]",
      "text/plain": [
       "<Figure size 432x288 with 1 Axes>"
      ]
     },
     "metadata": {
      "needs_background": "light"
     },
     "output_type": "display_data"
    }
   ],
   "source": [
    "from matplotlib import pyplot as plt\n",
    "import sklearn.cluster\n",
    "\n",
    "plt.plot(np.arange(1, len(eigenvals)+1, 1), eigenvals, 'o')"
   ]
  },
  {
   "cell_type": "code",
   "execution_count": null,
   "id": "41fce1bd-efbd-4da2-89e8-3b78e3be6502",
   "metadata": {},
   "outputs": [],
   "source": []
  }
 ],
 "metadata": {
  "kernelspec": {
   "display_name": "Python 3",
   "language": "python",
   "name": "python3"
  },
  "language_info": {
   "codemirror_mode": {
    "name": "ipython",
    "version": 3
   },
   "file_extension": ".py",
   "mimetype": "text/x-python",
   "name": "python",
   "nbconvert_exporter": "python",
   "pygments_lexer": "ipython3",
   "version": "3.8.8"
  }
 },
 "nbformat": 4,
 "nbformat_minor": 5
}
