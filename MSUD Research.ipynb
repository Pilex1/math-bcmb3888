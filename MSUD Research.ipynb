{
 "cells": [
  {
   "cell_type": "code",
   "execution_count": 25,
   "id": "e3f44d2f",
   "metadata": {},
   "outputs": [],
   "source": [
    "import networkx as nx\n",
    "import numpy as np\n",
    "import scipy as sp\n",
    "from networkx.algorithms import community\n",
    "from networkx.algorithms.community import greedy_modularity_communities\n",
    "from networkx.algorithms.community import k_clique_communities\n",
    "from community import community_louvain\n",
    "import pandas as pd\n",
    "from tqdm import tqdm"
   ]
  },
  {
   "cell_type": "markdown",
   "id": "b9dc1af0-4515-4d8e-af7a-7ca06bc1b65d",
   "metadata": {},
   "source": [
    "Load proteins and remove the 4932 prefix"
   ]
  },
  {
   "cell_type": "code",
   "execution_count": 26,
   "id": "1deb4bd6",
   "metadata": {},
   "outputs": [
    {
     "name": "stdout",
     "output_type": "stream",
     "text": [
      "number of nodes in original dataset:  6394\n",
      "\n",
      "0         YAL001C\n",
      "1         YAL003W\n",
      "2         YAL012W\n",
      "3         YAL025C\n",
      "4         YAL032C\n",
      "          ...    \n",
      "1308    YKL138C-A\n",
      "1309    YNL138W-A\n",
      "1310    YNL024C-A\n",
      "1311    YHR199C-A\n",
      "1312    YIL102C-A\n",
      "Name: 1, Length: 1313, dtype: object\n",
      "number of nodes after removing essential proteins:  5098\n"
     ]
    }
   ],
   "source": [
    "G0 = nx.read_weighted_edgelist(\"4932.protein.links.v11.5.txt\",comments=\"#\",nodetype=str)\n",
    "print(f\"number of nodes in original dataset: \", len(G0.nodes))\n",
    "\n",
    "#removing the prefix in proteins\n",
    "map_dic = {}\n",
    "\n",
    "for node in G0.nodes() :\n",
    "    map_dic[node] = node[5:]\n",
    "   \n",
    "G = nx.relabel_nodes(G0, map_dic)\n",
    "\n",
    "# remove essential proteins\n",
    "essential_proteins = pd.read_csv(\"yeast essential proteins.csv\", header=None)[1]\n",
    "print()\n",
    "print(essential_proteins)\n",
    "G.remove_nodes_from(essential_proteins)\n",
    "print(f\"number of nodes after removing essential proteins: \", len(G.nodes))    "
   ]
  },
  {
   "cell_type": "code",
   "execution_count": 27,
   "id": "4b30b8b6-9a96-4d92-a7c9-adce589eb6b1",
   "metadata": {},
   "outputs": [
    {
     "name": "stdout",
     "output_type": "stream",
     "text": [
      "Number of edges in original dataset 517875\n"
     ]
    }
   ],
   "source": [
    "print(\"Number of edges in original dataset\", len(G.edges))"
   ]
  },
  {
   "cell_type": "markdown",
   "id": "f0d7ce30-4910-47f8-ae82-d7833cee0742",
   "metadata": {},
   "source": [
    "Remove edges below a fixed score."
   ]
  },
  {
   "cell_type": "code",
   "execution_count": 28,
   "id": "a3c437ce-e369-49c9-85fd-f6c3acc79dc2",
   "metadata": {},
   "outputs": [
    {
     "name": "stdout",
     "output_type": "stream",
     "text": [
      "Number of edges after filtering over low score 99189\n"
     ]
    }
   ],
   "source": [
    "# delete those edges with a combined score of <= threshold_score (small confidence)\n",
    "threshold_score = 500\n",
    "for edge in G.edges: \n",
    "    weight = list(G.get_edge_data(edge[0],edge[1]).values())\n",
    "    if(weight[0] <= threshold_score):\n",
    "        G.remove_edge(edge[0],edge[1])\n",
    "print(\"Number of edges after filtering over low score\", len(G.edges))"
   ]
  },
  {
   "cell_type": "code",
   "execution_count": 29,
   "id": "8e6ff27d",
   "metadata": {},
   "outputs": [
    {
     "name": "stdout",
     "output_type": "stream",
     "text": [
      "# of partitions for Louvain modularity = 322\n"
     ]
    }
   ],
   "source": [
    "partLouvain = community_louvain.best_partition(G)\n",
    "number_of_communities = max(partLouvain.values())+1 #We add one because the indexing starts at 0.\n",
    "print('# of partitions for Louvain modularity =',number_of_communities)"
   ]
  },
  {
   "cell_type": "code",
   "execution_count": 30,
   "id": "6cb79513",
   "metadata": {},
   "outputs": [
    {
     "name": "stdout",
     "output_type": "stream",
     "text": [
      "The size of community # 0 is  1\n",
      "The size of community # 1 is  1\n",
      "The size of community # 2 is  296\n",
      "The size of community # 3 is  573\n",
      "The size of community # 4 is  302\n",
      "The size of community # 5 is  422\n",
      "The size of community # 6 is  1\n",
      "The size of community # 7 is  916\n",
      "The size of community # 8 is  1\n",
      "The size of community # 9 is  565\n",
      "The size of community # 10 is  1\n",
      "The size of community # 11 is  1\n",
      "The size of community # 12 is  516\n",
      "The size of community # 13 is  166\n",
      "The size of community # 14 is  410\n",
      "The size of community # 15 is  1\n",
      "The size of community # 16 is  145\n",
      "The size of community # 17 is  476\n",
      "The size of community # 18 is  1\n",
      "The size of community # 19 is  1\n",
      "The size of community # 20 is  1\n",
      "The size of community # 21 is  1\n",
      "The size of community # 22 is  1\n",
      "The size of community # 23 is  1\n",
      "The size of community # 24 is  1\n",
      "The size of community # 25 is  1\n",
      "The size of community # 26 is  1\n",
      "The size of community # 27 is  1\n",
      "The size of community # 28 is  1\n",
      "The size of community # 29 is  1\n",
      "The size of community # 30 is  1\n",
      "The size of community # 31 is  1\n",
      "The size of community # 32 is  1\n",
      "The size of community # 33 is  1\n",
      "The size of community # 34 is  1\n",
      "The size of community # 35 is  1\n",
      "The size of community # 36 is  1\n",
      "The size of community # 37 is  1\n",
      "The size of community # 38 is  1\n",
      "The size of community # 39 is  1\n",
      "The size of community # 40 is  1\n",
      "The size of community # 41 is  1\n",
      "The size of community # 42 is  1\n",
      "The size of community # 43 is  1\n",
      "The size of community # 44 is  1\n",
      "The size of community # 45 is  1\n",
      "The size of community # 46 is  1\n",
      "The size of community # 47 is  1\n",
      "The size of community # 48 is  1\n",
      "The size of community # 49 is  1\n",
      "The size of community # 50 is  1\n",
      "The size of community # 51 is  1\n",
      "The size of community # 52 is  1\n",
      "The size of community # 53 is  1\n",
      "The size of community # 54 is  1\n",
      "The size of community # 55 is  1\n",
      "The size of community # 56 is  1\n",
      "The size of community # 57 is  1\n",
      "The size of community # 58 is  1\n",
      "The size of community # 59 is  1\n",
      "The size of community # 60 is  1\n",
      "The size of community # 61 is  1\n",
      "The size of community # 62 is  1\n",
      "The size of community # 63 is  1\n",
      "The size of community # 64 is  1\n",
      "The size of community # 65 is  1\n",
      "The size of community # 66 is  1\n",
      "The size of community # 67 is  1\n",
      "The size of community # 68 is  1\n",
      "The size of community # 69 is  1\n",
      "The size of community # 70 is  1\n",
      "The size of community # 71 is  1\n",
      "The size of community # 72 is  1\n",
      "The size of community # 73 is  1\n",
      "The size of community # 74 is  1\n",
      "The size of community # 75 is  1\n",
      "The size of community # 76 is  1\n",
      "The size of community # 77 is  1\n",
      "The size of community # 78 is  1\n",
      "The size of community # 79 is  1\n",
      "The size of community # 80 is  1\n",
      "The size of community # 81 is  1\n",
      "The size of community # 82 is  1\n",
      "The size of community # 83 is  1\n",
      "The size of community # 84 is  1\n",
      "The size of community # 85 is  1\n",
      "The size of community # 86 is  1\n",
      "The size of community # 87 is  1\n",
      "The size of community # 88 is  1\n",
      "The size of community # 89 is  1\n",
      "The size of community # 90 is  1\n",
      "The size of community # 91 is  1\n",
      "The size of community # 92 is  1\n",
      "The size of community # 93 is  1\n",
      "The size of community # 94 is  1\n",
      "The size of community # 95 is  1\n",
      "The size of community # 96 is  1\n",
      "The size of community # 97 is  1\n",
      "The size of community # 98 is  1\n",
      "The size of community # 99 is  1\n",
      "The size of community # 100 is  1\n",
      "The size of community # 101 is  1\n",
      "The size of community # 102 is  1\n",
      "The size of community # 103 is  1\n",
      "The size of community # 104 is  1\n",
      "The size of community # 105 is  1\n",
      "The size of community # 106 is  1\n",
      "The size of community # 107 is  1\n",
      "The size of community # 108 is  1\n",
      "The size of community # 109 is  1\n",
      "The size of community # 110 is  1\n",
      "The size of community # 111 is  1\n",
      "The size of community # 112 is  1\n",
      "The size of community # 113 is  1\n",
      "The size of community # 114 is  1\n",
      "The size of community # 115 is  1\n",
      "The size of community # 116 is  1\n",
      "The size of community # 117 is  1\n",
      "The size of community # 118 is  1\n",
      "The size of community # 119 is  1\n",
      "The size of community # 120 is  1\n",
      "The size of community # 121 is  1\n",
      "The size of community # 122 is  1\n",
      "The size of community # 123 is  1\n",
      "The size of community # 124 is  1\n",
      "The size of community # 125 is  1\n",
      "The size of community # 126 is  1\n",
      "The size of community # 127 is  1\n",
      "The size of community # 128 is  1\n",
      "The size of community # 129 is  1\n",
      "The size of community # 130 is  1\n",
      "The size of community # 131 is  1\n",
      "The size of community # 132 is  1\n",
      "The size of community # 133 is  1\n",
      "The size of community # 134 is  1\n",
      "The size of community # 135 is  1\n",
      "The size of community # 136 is  1\n",
      "The size of community # 137 is  1\n",
      "The size of community # 138 is  1\n",
      "The size of community # 139 is  1\n",
      "The size of community # 140 is  1\n",
      "The size of community # 141 is  1\n",
      "The size of community # 142 is  1\n",
      "The size of community # 143 is  1\n",
      "The size of community # 144 is  1\n",
      "The size of community # 145 is  1\n",
      "The size of community # 146 is  1\n",
      "The size of community # 147 is  1\n",
      "The size of community # 148 is  1\n",
      "The size of community # 149 is  1\n",
      "The size of community # 150 is  1\n",
      "The size of community # 151 is  1\n",
      "The size of community # 152 is  1\n",
      "The size of community # 153 is  1\n",
      "The size of community # 154 is  1\n",
      "The size of community # 155 is  1\n",
      "The size of community # 156 is  1\n",
      "The size of community # 157 is  1\n",
      "The size of community # 158 is  1\n",
      "The size of community # 159 is  1\n",
      "The size of community # 160 is  1\n",
      "The size of community # 161 is  1\n",
      "The size of community # 162 is  1\n",
      "The size of community # 163 is  1\n",
      "The size of community # 164 is  1\n",
      "The size of community # 165 is  1\n",
      "The size of community # 166 is  1\n",
      "The size of community # 167 is  1\n",
      "The size of community # 168 is  1\n",
      "The size of community # 169 is  1\n",
      "The size of community # 170 is  1\n",
      "The size of community # 171 is  1\n",
      "The size of community # 172 is  1\n",
      "The size of community # 173 is  1\n",
      "The size of community # 174 is  1\n",
      "The size of community # 175 is  1\n",
      "The size of community # 176 is  1\n",
      "The size of community # 177 is  1\n",
      "The size of community # 178 is  1\n",
      "The size of community # 179 is  1\n",
      "The size of community # 180 is  1\n",
      "The size of community # 181 is  1\n",
      "The size of community # 182 is  1\n",
      "The size of community # 183 is  1\n",
      "The size of community # 184 is  1\n",
      "The size of community # 185 is  1\n",
      "The size of community # 186 is  1\n",
      "The size of community # 187 is  1\n",
      "The size of community # 188 is  1\n",
      "The size of community # 189 is  1\n",
      "The size of community # 190 is  1\n",
      "The size of community # 191 is  1\n",
      "The size of community # 192 is  1\n",
      "The size of community # 193 is  1\n",
      "The size of community # 194 is  1\n",
      "The size of community # 195 is  1\n",
      "The size of community # 196 is  1\n",
      "The size of community # 197 is  1\n",
      "The size of community # 198 is  1\n",
      "The size of community # 199 is  1\n",
      "The size of community # 200 is  1\n",
      "The size of community # 201 is  1\n",
      "The size of community # 202 is  1\n",
      "The size of community # 203 is  1\n",
      "The size of community # 204 is  1\n",
      "The size of community # 205 is  1\n",
      "The size of community # 206 is  1\n",
      "The size of community # 207 is  1\n",
      "The size of community # 208 is  1\n",
      "The size of community # 209 is  1\n",
      "The size of community # 210 is  1\n",
      "The size of community # 211 is  1\n",
      "The size of community # 212 is  1\n",
      "The size of community # 213 is  1\n",
      "The size of community # 214 is  1\n",
      "The size of community # 215 is  1\n",
      "The size of community # 216 is  1\n",
      "The size of community # 217 is  1\n",
      "The size of community # 218 is  1\n",
      "The size of community # 219 is  1\n",
      "The size of community # 220 is  1\n",
      "The size of community # 221 is  1\n",
      "The size of community # 222 is  1\n",
      "The size of community # 223 is  1\n",
      "The size of community # 224 is  1\n",
      "The size of community # 225 is  1\n",
      "The size of community # 226 is  1\n",
      "The size of community # 227 is  1\n",
      "The size of community # 228 is  1\n",
      "The size of community # 229 is  1\n",
      "The size of community # 230 is  1\n",
      "The size of community # 231 is  1\n",
      "The size of community # 232 is  1\n",
      "The size of community # 233 is  1\n",
      "The size of community # 234 is  1\n",
      "The size of community # 235 is  1\n",
      "The size of community # 236 is  1\n",
      "The size of community # 237 is  1\n",
      "The size of community # 238 is  1\n",
      "The size of community # 239 is  1\n",
      "The size of community # 240 is  1\n",
      "The size of community # 241 is  1\n",
      "The size of community # 242 is  1\n",
      "The size of community # 243 is  1\n",
      "The size of community # 244 is  1\n",
      "The size of community # 245 is  1\n",
      "The size of community # 246 is  1\n",
      "The size of community # 247 is  1\n",
      "The size of community # 248 is  1\n",
      "The size of community # 249 is  1\n",
      "The size of community # 250 is  1\n",
      "The size of community # 251 is  1\n",
      "The size of community # 252 is  1\n",
      "The size of community # 253 is  1\n",
      "The size of community # 254 is  1\n",
      "The size of community # 255 is  1\n",
      "The size of community # 256 is  1\n",
      "The size of community # 257 is  1\n",
      "The size of community # 258 is  1\n",
      "The size of community # 259 is  1\n",
      "The size of community # 260 is  1\n",
      "The size of community # 261 is  1\n",
      "The size of community # 262 is  1\n",
      "The size of community # 263 is  1\n",
      "The size of community # 264 is  1\n",
      "The size of community # 265 is  1\n",
      "The size of community # 266 is  1\n",
      "The size of community # 267 is  1\n",
      "The size of community # 268 is  1\n",
      "The size of community # 269 is  1\n",
      "The size of community # 270 is  1\n",
      "The size of community # 271 is  1\n",
      "The size of community # 272 is  1\n",
      "The size of community # 273 is  1\n",
      "The size of community # 274 is  1\n",
      "The size of community # 275 is  1\n",
      "The size of community # 276 is  1\n",
      "The size of community # 277 is  1\n",
      "The size of community # 278 is  1\n",
      "The size of community # 279 is  1\n",
      "The size of community # 280 is  1\n",
      "The size of community # 281 is  1\n",
      "The size of community # 282 is  1\n",
      "The size of community # 283 is  1\n",
      "The size of community # 284 is  1\n",
      "The size of community # 285 is  1\n",
      "The size of community # 286 is  1\n",
      "The size of community # 287 is  1\n",
      "The size of community # 288 is  1\n",
      "The size of community # 289 is  1\n",
      "The size of community # 290 is  1\n",
      "The size of community # 291 is  1\n",
      "The size of community # 292 is  1\n",
      "The size of community # 293 is  1\n",
      "The size of community # 294 is  1\n",
      "The size of community # 295 is  1\n",
      "The size of community # 296 is  1\n",
      "The size of community # 297 is  1\n",
      "The size of community # 298 is  1\n",
      "The size of community # 299 is  1\n",
      "The size of community # 300 is  1\n",
      "The size of community # 301 is  1\n",
      "The size of community # 302 is  1\n",
      "The size of community # 303 is  1\n",
      "The size of community # 304 is  1\n",
      "The size of community # 305 is  1\n",
      "The size of community # 306 is  1\n",
      "The size of community # 307 is  1\n",
      "The size of community # 308 is  1\n",
      "The size of community # 309 is  1\n",
      "The size of community # 310 is  1\n",
      "The size of community # 311 is  1\n",
      "The size of community # 312 is  1\n",
      "The size of community # 313 is  1\n",
      "The size of community # 314 is  1\n",
      "The size of community # 315 is  1\n",
      "The size of community # 316 is  1\n",
      "The size of community # 317 is  1\n",
      "The size of community # 318 is  1\n",
      "The size of community # 319 is  1\n",
      "The size of community # 320 is  1\n",
      "The size of community # 321 is  1\n"
     ]
    }
   ],
   "source": [
    "# Let's construct a dictionary object called 'communities'. The keys will be the community labels and the values \n",
    "# will be a list of nodes in that community. The more experienced python users among you will probably see an \n",
    "# easier/faster way to do this.\n",
    "\n",
    "communities = {} #empty dictionary\n",
    "for i in range(number_of_communities):\n",
    "    communities[i] = [] #create an empty list for each community\n",
    "\n",
    "for name, community in partLouvain.items():\n",
    "    communities[community].append(name) #go through the computed partition and add each node to the appropriate list\n",
    "    \n",
    "\n",
    "# The dictionary we have constructed is similar to what the output of the Louvain algorithm in NetworkX would be. \n",
    "# In your own investigations you can decide what is more useful.\n",
    "\n",
    "#Now let's find out how big each community is. You could accomplish this in the following way:\n",
    "for k in communities:\n",
    "    print('The size of community #', list(communities.keys())[k], 'is ',len(communities[k]))"
   ]
  },
  {
   "cell_type": "code",
   "execution_count": 31,
   "id": "5030501c",
   "metadata": {},
   "outputs": [
    {
     "name": "stdout",
     "output_type": "stream",
     "text": [
      "protein YGL059W in community 12\n",
      "protein YFL018C in community 7\n",
      "protein YOR090C in community 12\n",
      "protein YER178W in community 7\n",
      "protein YBR221C in community 7\n",
      "protein YNL071W in community 7\n",
      "protein YIL042C in community 12\n"
     ]
    }
   ],
   "source": [
    "\n",
    "# partLouvain is a dict where the keys are the node names (i.e. protein names) and values are the index of the community that the protein is part of\n",
    "\n",
    "protein_interest = set(['YER178W', 'YBR221C', 'YNL071W', 'YOR090C', 'YFL018C', 'YIL042C', 'YGL059W'])\n",
    "communities_interest = set()\n",
    "\n",
    "for p in protein_interest:\n",
    "    print(f\"protein {p} in community {partLouvain[p]}\")\n",
    "    communities_interest.add(partLouvain[p])"
   ]
  },
  {
   "cell_type": "code",
   "execution_count": 32,
   "id": "579dd71a-c7aa-4282-8ed9-f5a0992be188",
   "metadata": {},
   "outputs": [
    {
     "data": {
      "text/plain": [
       "{7, 12}"
      ]
     },
     "execution_count": 32,
     "metadata": {},
     "output_type": "execute_result"
    }
   ],
   "source": [
    "communities_interest"
   ]
  },
  {
   "cell_type": "code",
   "execution_count": 33,
   "id": "5cc5e9fc",
   "metadata": {},
   "outputs": [
    {
     "name": "stdout",
     "output_type": "stream",
     "text": [
      "degree of each protein\n"
     ]
    },
    {
     "data": {
      "text/plain": [
       "{'YGL059W': 35.0,\n",
       " 'YIL042C': 39.0,\n",
       " 'YOR090C': 52.0,\n",
       " 'YNL071W': 89.0,\n",
       " 'YFL018C': 96.0,\n",
       " 'YER178W': 116.0,\n",
       " 'YBR221C': 144.0}"
      ]
     },
     "execution_count": 33,
     "metadata": {},
     "output_type": "execute_result"
    }
   ],
   "source": [
    "# add proteins of interest in the list below\n",
    "protein_interest = set(['YER178W', 'YBR221C', 'YNL071W', 'YOR090C', 'YFL018C', 'YIL042C', 'YGL059W'])\n",
    "degree_dic = {}\n",
    "\n",
    "for p in protein_interest:\n",
    "    degree_dic[p] = float(G.degree(p))\n",
    "    \n",
    "print(\"degree of each protein\")\n",
    "dict(sorted(degree_dic.items(), key=lambda item: item[1]))"
   ]
  },
  {
   "cell_type": "code",
   "execution_count": 34,
   "id": "08871060",
   "metadata": {},
   "outputs": [
    {
     "name": "stderr",
     "output_type": "stream",
     "text": [
      "100%|████████████████████████████████████████| 322/322 [00:01<00:00, 228.48it/s]\n"
     ]
    },
    {
     "data": {
      "image/png": "[encoded data removed]",
      "text/plain": [
       "<Figure size 432x288 with 1 Axes>"
      ]
     },
     "metadata": {},
     "output_type": "display_data"
    }
   ],
   "source": [
    "# goal make sure that community 1 and 4 are connecting\n",
    "# define the clusters as separate graphs\n",
    "\n",
    "#subgraph dict with community label as key and subgraph as value\n",
    "essential_proteins_cluster = {}\n",
    "\n",
    "for key in communities.keys():\n",
    "    essential_proteins_cluster[key] = G.subgraph(communities[key])\n",
    "\n",
    "layout_PPI = nx.spring_layout(G,k=1/np.sqrt(len(G)))\n",
    "\n",
    "for i in tqdm(range(len(essential_proteins_cluster))):\n",
    "    nx.draw(essential_proteins_cluster[i], pos=layout_PPI, node_color='red' if i in communities_interest else 'black')\n",
    "    \n",
    "    \n",
    "# nx.draw(essential_proteins_cluster[1],pos=layout_PPI,node_color='red')\n",
    "# nx.draw(essential_proteins_cluster[4],pos=layout_PPI,node_color='green')"
   ]
  },
  {
   "cell_type": "code",
   "execution_count": 35,
   "id": "fc404111",
   "metadata": {},
   "outputs": [],
   "source": [
    "#edges dict with community label as key and (0,1) for edge/no-edge as value\n",
    "edges = {}\n",
    "for i in range(number_of_communities-1):\n",
    "    for j in range(i+1,number_of_communities):\n",
    "        edges[str(i)+str(j)] = 0\n",
    "\n",
    "for i in range(number_of_communities-1):\n",
    "    for node in essential_proteins_cluster[i].nodes():\n",
    "        for neighbor in G.neighbors(node):\n",
    "            for j in range(i+1,number_of_communities):\n",
    "                if neighbor in communities[j]:\n",
    "                    edges[str(i)+str(j)] += 1\n",
    "\n",
    "# print(edges) # convention: 'ij' denotes the edge between node(=community) i and node(=community) j."
   ]
  },
  {
   "cell_type": "code",
   "execution_count": 36,
   "id": "60966b05",
   "metadata": {},
   "outputs": [
    {
     "name": "stdout",
     "output_type": "stream",
     "text": [
      "community 12 is connected to communities [2, 3, 4, 5, 7, 9, 13, 14, 16, 17]\n",
      "community 7 is connected to communities [2, 3, 4, 5, 9, 12, 13, 14, 16, 17]\n"
     ]
    }
   ],
   "source": [
    "\n",
    "# Find the communities which have links to the community of the target community\n",
    "def get_connected_communities(community_index):\n",
    "\n",
    "    neighbor_community = []\n",
    "    for i in range(number_of_communities):\n",
    "        if i < target_community:\n",
    "            if edges[str(i)+str(target_community)] != 0:\n",
    "                neighbor_community.append(i)\n",
    "        if i > target_community:\n",
    "            if edges[str(target_community)+str(i)] != 0:\n",
    "                neighbor_community.append(i)\n",
    "    return neighbor_community\n",
    "\n",
    "\n",
    "target_community = partLouvain['YOR090C']\n",
    "print(f\"community {target_community} is connected to communities {get_connected_communities(target_community)}\")\n",
    "\n",
    "target_community = partLouvain['YER178W']\n",
    "print(f\"community {target_community} is connected to communities {get_connected_communities(target_community)}\")"
   ]
  },
  {
   "cell_type": "code",
   "execution_count": 37,
   "id": "0763607f",
   "metadata": {},
   "outputs": [
    {
     "name": "stdout",
     "output_type": "stream",
     "text": [
      "True\n"
     ]
    }
   ],
   "source": [
    "print(G.has_edge('YER178W','YOR090C'))"
   ]
  },
  {
   "cell_type": "code",
   "execution_count": null,
   "id": "ae3d4a22-5814-4415-967c-a422691e5c35",
   "metadata": {},
   "outputs": [],
   "source": []
  }
 ],
 "metadata": {
  "kernelspec": {
   "display_name": "Python 3",
   "language": "python",
   "name": "python3"
  },
  "language_info": {
   "codemirror_mode": {
    "name": "ipython",
    "version": 3
   },
   "file_extension": ".py",
   "mimetype": "text/x-python",
   "name": "python",
   "nbconvert_exporter": "python",
   "pygments_lexer": "ipython3",
   "version": "3.8.8"
  }
 },
 "nbformat": 4,
 "nbformat_minor": 5
}
